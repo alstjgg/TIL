{
  "nbformat": 4,
  "nbformat_minor": 0,
  "metadata": {
    "colab": {
      "name": "최종_국민청원_데이터_시각화.ipynb",
      "provenance": [],
      "collapsed_sections": []
    },
    "kernelspec": {
      "name": "python3",
      "display_name": "Python 3"
    }
  },
  "cells": [
    {
      "cell_type": "markdown",
      "metadata": {
        "id": "S3ftkvnPtFMc",
        "colab_type": "text"
      },
      "source": [
        "# 국민 청원 데이터 분석"
      ]
    },
    {
      "cell_type": "markdown",
      "metadata": {
        "id": "VxJ1x3eAtETh",
        "colab_type": "text"
      },
      "source": [
        "### Import libraries"
      ]
    },
    {
      "cell_type": "code",
      "metadata": {
        "id": "5b3AR_XubOMs",
        "colab_type": "code",
        "outputId": "916c31f7-729b-4ad8-92f9-d4147c708e49",
        "colab": {
          "base_uri": "https://localhost:8080/",
          "height": 52
        }
      },
      "source": [
        "import pandas as pd\n",
        "import matplotlib.pyplot as plt\n",
        "import seaborn as sns"
      ],
      "execution_count": 1,
      "outputs": [
        {
          "output_type": "stream",
          "text": [
            "/usr/local/lib/python3.6/dist-packages/statsmodels/tools/_testing.py:19: FutureWarning: pandas.util.testing is deprecated. Use the functions in the public API at pandas.testing instead.\n",
            "  import pandas.util.testing as tm\n"
          ],
          "name": "stderr"
        }
      ]
    },
    {
      "cell_type": "markdown",
      "metadata": {
        "id": "z-BsyVMGaiZb",
        "colab_type": "text"
      },
      "source": [
        "### 크롤링 시도"
      ]
    },
    {
      "cell_type": "code",
      "metadata": {
        "id": "li3YgCi5ah7D",
        "colab_type": "code",
        "colab": {}
      },
      "source": [
        ""
      ],
      "execution_count": 0,
      "outputs": []
    },
    {
      "cell_type": "markdown",
      "metadata": {
        "id": "gwVgqY19tU0Q",
        "colab_type": "text"
      },
      "source": [
        "### Import data"
      ]
    },
    {
      "cell_type": "code",
      "metadata": {
        "id": "0pqMjNxydJXU",
        "colab_type": "code",
        "colab": {}
      },
      "source": [
        "petition_data = pd.read_csv('https://s3.ap-northeast-2.amazonaws.com/data10902/petition/petition.csv', parse_dates=['start', 'end'], index_col='article_id')"
      ],
      "execution_count": 0,
      "outputs": []
    },
    {
      "cell_type": "code",
      "metadata": {
        "id": "IagisgqIvCp7",
        "colab_type": "code",
        "outputId": "5639ddf6-ad41-4d30-dd83-89ecfc5d432a",
        "colab": {
          "base_uri": "https://localhost:8080/",
          "height": 225
        }
      },
      "source": [
        "petition_data.head()"
      ],
      "execution_count": 3,
      "outputs": [
        {
          "output_type": "execute_result",
          "data": {
            "text/html": [
              "<div>\n",
              "<style scoped>\n",
              "    .dataframe tbody tr th:only-of-type {\n",
              "        vertical-align: middle;\n",
              "    }\n",
              "\n",
              "    .dataframe tbody tr th {\n",
              "        vertical-align: top;\n",
              "    }\n",
              "\n",
              "    .dataframe thead th {\n",
              "        text-align: right;\n",
              "    }\n",
              "</style>\n",
              "<table border=\"1\" class=\"dataframe\">\n",
              "  <thead>\n",
              "    <tr style=\"text-align: right;\">\n",
              "      <th></th>\n",
              "      <th>start</th>\n",
              "      <th>end</th>\n",
              "      <th>answered</th>\n",
              "      <th>votes</th>\n",
              "      <th>category</th>\n",
              "      <th>title</th>\n",
              "      <th>content</th>\n",
              "    </tr>\n",
              "    <tr>\n",
              "      <th>article_id</th>\n",
              "      <th></th>\n",
              "      <th></th>\n",
              "      <th></th>\n",
              "      <th></th>\n",
              "      <th></th>\n",
              "      <th></th>\n",
              "      <th></th>\n",
              "    </tr>\n",
              "  </thead>\n",
              "  <tbody>\n",
              "    <tr>\n",
              "      <th>21</th>\n",
              "      <td>2017-08-19</td>\n",
              "      <td>2017-11-17</td>\n",
              "      <td>0</td>\n",
              "      <td>9</td>\n",
              "      <td>안전/환경</td>\n",
              "      <td>스텔라 데이지호에 대한 제안입니다.</td>\n",
              "      <td>스텔라 데이지호에 대한 제안입니다.\\n3월31일 스텔라 데이지호가 침몰하고 5달째가...</td>\n",
              "    </tr>\n",
              "    <tr>\n",
              "      <th>22</th>\n",
              "      <td>2017-08-19</td>\n",
              "      <td>2017-11-17</td>\n",
              "      <td>0</td>\n",
              "      <td>17</td>\n",
              "      <td>기타</td>\n",
              "      <td>비리제보처를 만들어주세요.</td>\n",
              "      <td>현 정부에 국민들이 가장 원하는 것은 부패척결입니다.  우리 사회에 각종 비리들이 ...</td>\n",
              "    </tr>\n",
              "    <tr>\n",
              "      <th>23</th>\n",
              "      <td>2017-08-19</td>\n",
              "      <td>2017-09-03</td>\n",
              "      <td>0</td>\n",
              "      <td>0</td>\n",
              "      <td>미래</td>\n",
              "      <td>제2의 개성공단</td>\n",
              "      <td>만일 하시는 대통령님 및 각 부처 장관님,주무관님들 안녕하세요!!\\n전남 목포에서 ...</td>\n",
              "    </tr>\n",
              "    <tr>\n",
              "      <th>24</th>\n",
              "      <td>2017-08-19</td>\n",
              "      <td>2017-08-26</td>\n",
              "      <td>0</td>\n",
              "      <td>53</td>\n",
              "      <td>일자리</td>\n",
              "      <td>공공기관 무조건적인 정규직전환을 반대합니다.</td>\n",
              "      <td>현정부에서 정규직 일자리를 늘리는 것에 찬성합니다. 그런데 공공기관 비정규직들은 인...</td>\n",
              "    </tr>\n",
              "    <tr>\n",
              "      <th>25</th>\n",
              "      <td>2017-08-19</td>\n",
              "      <td>2017-09-03</td>\n",
              "      <td>0</td>\n",
              "      <td>0</td>\n",
              "      <td>미래</td>\n",
              "      <td>제2의 개성공단</td>\n",
              "      <td>만일 하시는 대통령님 및 각 부처 장관님,주무관님들 안녕하세요!!\\n전남 목포에서 ...</td>\n",
              "    </tr>\n",
              "  </tbody>\n",
              "</table>\n",
              "</div>"
            ],
            "text/plain": [
              "                start  ...                                            content\n",
              "article_id             ...                                                   \n",
              "21         2017-08-19  ...  스텔라 데이지호에 대한 제안입니다.\\n3월31일 스텔라 데이지호가 침몰하고 5달째가...\n",
              "22         2017-08-19  ...  현 정부에 국민들이 가장 원하는 것은 부패척결입니다.  우리 사회에 각종 비리들이 ...\n",
              "23         2017-08-19  ...  만일 하시는 대통령님 및 각 부처 장관님,주무관님들 안녕하세요!!\\n전남 목포에서 ...\n",
              "24         2017-08-19  ...  현정부에서 정규직 일자리를 늘리는 것에 찬성합니다. 그런데 공공기관 비정규직들은 인...\n",
              "25         2017-08-19  ...  만일 하시는 대통령님 및 각 부처 장관님,주무관님들 안녕하세요!!\\n전남 목포에서 ...\n",
              "\n",
              "[5 rows x 7 columns]"
            ]
          },
          "metadata": {
            "tags": []
          },
          "execution_count": 3
        }
      ]
    },
    {
      "cell_type": "markdown",
      "metadata": {
        "id": "5Vm36gSvtZqm",
        "colab_type": "text"
      },
      "source": [
        "## Columns"
      ]
    },
    {
      "cell_type": "markdown",
      "metadata": {
        "id": "TqGKIX3etg8m",
        "colab_type": "text"
      },
      "source": [
        "국민 청원 데이터를 표현하는 값들을 먼저 보자"
      ]
    },
    {
      "cell_type": "code",
      "metadata": {
        "id": "NnEKLF15tmrq",
        "colab_type": "code",
        "outputId": "86d670ed-a726-4efa-e9dc-71886cc960c9",
        "colab": {
          "base_uri": "https://localhost:8080/",
          "height": 34
        }
      },
      "source": [
        "print(*petition_data.columns.values)"
      ],
      "execution_count": 4,
      "outputs": [
        {
          "output_type": "stream",
          "text": [
            "start end answered votes category title content\n"
          ],
          "name": "stdout"
        }
      ]
    },
    {
      "cell_type": "markdown",
      "metadata": {
        "id": "CMVbOFNUt6KB",
        "colab_type": "text"
      },
      "source": [
        "|분류|의미|\n",
        "|:-|:-:|  \n",
        "**start** | 청원 시작 날짜  \n",
        "**end**| 청원 종료 날짜  \n",
        "**answered** | 받은 답변  \n",
        "**votes** | 받은 투표 수  \n",
        "**cateogry** | 청원 내용의 카테고리  \n",
        "**title** | 청원 제목  \n",
        "**content** | 청원 내용\n",
        "\n",
        "우리는 청원 글들의 내용보다는 제목에서 나타나는 키워드를 뽑고자 하기에, content는 필요없다.  \n",
        "또한, 청원 종료 날짜는 청원 시작 날짜로부터 유추할 수 있기에 불필요한 정보이다."
      ]
    },
    {
      "cell_type": "code",
      "metadata": {
        "id": "-uKKwfcTuqhr",
        "colab_type": "code",
        "colab": {
          "base_uri": "https://localhost:8080/",
          "height": 34
        },
        "outputId": "100eb2ec-6b93-4c86-b710-c21cf85f6493"
      },
      "source": [
        "petition_data.drop(['content', 'end'], axis=1, inplace=True)\n",
        "print(*petition_data.columns.values)"
      ],
      "execution_count": 5,
      "outputs": [
        {
          "output_type": "stream",
          "text": [
            "start answered votes category title\n"
          ],
          "name": "stdout"
        }
      ]
    },
    {
      "cell_type": "markdown",
      "metadata": {
        "id": "_DIGDxvTwE8D",
        "colab_type": "text"
      },
      "source": [
        "각 정보들의 간단한 분포와 정보를 알아보자\n",
        "\n",
        "---\n"
      ]
    },
    {
      "cell_type": "code",
      "metadata": {
        "id": "kjjn22uCvgXw",
        "colab_type": "code",
        "outputId": "4563c5da-5869-4d7b-fd53-b547fd8e83d8",
        "colab": {
          "base_uri": "https://localhost:8080/",
          "height": 284
        }
      },
      "source": [
        "petition_data.describe()"
      ],
      "execution_count": 6,
      "outputs": [
        {
          "output_type": "execute_result",
          "data": {
            "text/html": [
              "<div>\n",
              "<style scoped>\n",
              "    .dataframe tbody tr th:only-of-type {\n",
              "        vertical-align: middle;\n",
              "    }\n",
              "\n",
              "    .dataframe tbody tr th {\n",
              "        vertical-align: top;\n",
              "    }\n",
              "\n",
              "    .dataframe thead th {\n",
              "        text-align: right;\n",
              "    }\n",
              "</style>\n",
              "<table border=\"1\" class=\"dataframe\">\n",
              "  <thead>\n",
              "    <tr style=\"text-align: right;\">\n",
              "      <th></th>\n",
              "      <th>answered</th>\n",
              "      <th>votes</th>\n",
              "    </tr>\n",
              "  </thead>\n",
              "  <tbody>\n",
              "    <tr>\n",
              "      <th>count</th>\n",
              "      <td>395547.000000</td>\n",
              "      <td>3.955470e+05</td>\n",
              "    </tr>\n",
              "    <tr>\n",
              "      <th>mean</th>\n",
              "      <td>0.000073</td>\n",
              "      <td>1.501188e+02</td>\n",
              "    </tr>\n",
              "    <tr>\n",
              "      <th>std</th>\n",
              "      <td>0.008562</td>\n",
              "      <td>4.802583e+03</td>\n",
              "    </tr>\n",
              "    <tr>\n",
              "      <th>min</th>\n",
              "      <td>0.000000</td>\n",
              "      <td>0.000000e+00</td>\n",
              "    </tr>\n",
              "    <tr>\n",
              "      <th>25%</th>\n",
              "      <td>0.000000</td>\n",
              "      <td>2.000000e+00</td>\n",
              "    </tr>\n",
              "    <tr>\n",
              "      <th>50%</th>\n",
              "      <td>0.000000</td>\n",
              "      <td>5.000000e+00</td>\n",
              "    </tr>\n",
              "    <tr>\n",
              "      <th>75%</th>\n",
              "      <td>0.000000</td>\n",
              "      <td>1.500000e+01</td>\n",
              "    </tr>\n",
              "    <tr>\n",
              "      <th>max</th>\n",
              "      <td>1.000000</td>\n",
              "      <td>1.192049e+06</td>\n",
              "    </tr>\n",
              "  </tbody>\n",
              "</table>\n",
              "</div>"
            ],
            "text/plain": [
              "            answered         votes\n",
              "count  395547.000000  3.955470e+05\n",
              "mean        0.000073  1.501188e+02\n",
              "std         0.008562  4.802583e+03\n",
              "min         0.000000  0.000000e+00\n",
              "25%         0.000000  2.000000e+00\n",
              "50%         0.000000  5.000000e+00\n",
              "75%         0.000000  1.500000e+01\n",
              "max         1.000000  1.192049e+06"
            ]
          },
          "metadata": {
            "tags": []
          },
          "execution_count": 6
        }
      ]
    },
    {
      "cell_type": "markdown",
      "metadata": {
        "id": "Yu0uTAl_wopp",
        "colab_type": "text"
      },
      "source": [
        "**answered**와 **votes** 항목은 numerical data이다. \n",
        "\n",
        "**answered**의 경우, 일종의 *categorical data*로 볼 수 있는데, 답변을 받으면 1 받지 못했으면 0의 값을 가지는데,  \n",
        "답변을 받지 못한 경우가 압도적으로 많은 것을 확인할 수 있다.  \n",
        "**votes**의 경우 평균적으로 1.5이지만, 표준편차 등을 확인했을 때 균일한 분포는 아닐 것이라고 유추할 수 있다.\n",
        "\n",
        "이를 시각화하며 더 자세히 알아보자\n",
        "\n",
        "## Answered"
      ]
    },
    {
      "cell_type": "code",
      "metadata": {
        "id": "i7gDf8uEzSKz",
        "colab_type": "code",
        "outputId": "0fcb66cb-8dfd-4d01-c90d-8ff911844d75",
        "colab": {
          "base_uri": "https://localhost:8080/",
          "height": 70
        }
      },
      "source": [
        "petition_data.answered.value_counts()"
      ],
      "execution_count": 7,
      "outputs": [
        {
          "output_type": "execute_result",
          "data": {
            "text/plain": [
              "0    395518\n",
              "1        29\n",
              "Name: answered, dtype: int64"
            ]
          },
          "metadata": {
            "tags": []
          },
          "execution_count": 7
        }
      ]
    },
    {
      "cell_type": "code",
      "metadata": {
        "id": "lAgKEHxfPdtM",
        "colab_type": "code",
        "outputId": "f40dac68-d23c-4d3c-f6f6-f322a7945528",
        "colab": {
          "base_uri": "https://localhost:8080/",
          "height": 34
        }
      },
      "source": [
        "petition_data[petition_data.votes >= 200000].answered.count()"
      ],
      "execution_count": 8,
      "outputs": [
        {
          "output_type": "execute_result",
          "data": {
            "text/plain": [
              "80"
            ]
          },
          "metadata": {
            "tags": []
          },
          "execution_count": 8
        }
      ]
    },
    {
      "cell_type": "markdown",
      "metadata": {
        "id": "fwszo84mPu48",
        "colab_type": "text"
      },
      "source": [
        "answered가 1인 수보다 20만 이상의 동의를 받은 청원 수가 많음을 확인할 수 있다.  \n",
        "답변을 받아야하지만, 아직 대기 중이라는 청원들이 많이 존재한다는 뜻이다.  \n",
        "우리는 20만 이상의 동의를 받은 청원을 답변을 받아야하는 청원으로 볼 것이기 때문에, answered feature는 보지 않아도 된다."
      ]
    },
    {
      "cell_type": "code",
      "metadata": {
        "id": "ol6h9CVLQKNk",
        "colab_type": "code",
        "colab": {}
      },
      "source": [
        "petition_data.drop('answered', axis=1, inplace=True)"
      ],
      "execution_count": 0,
      "outputs": []
    },
    {
      "cell_type": "markdown",
      "metadata": {
        "id": "1C6rLcESbpCz",
        "colab_type": "text"
      },
      "source": [
        "## Start\n",
        "청원 시작 날짜, 다시 말해 청원글을 올린 시점을 보자"
      ]
    },
    {
      "cell_type": "code",
      "metadata": {
        "id": "w_5hhorNbC79",
        "colab_type": "code",
        "outputId": "58dda174-cfb0-4512-9276-a8273ed152e7",
        "colab": {
          "base_uri": "https://localhost:8080/",
          "height": 140
        }
      },
      "source": [
        "petition_data.start.describe()"
      ],
      "execution_count": 10,
      "outputs": [
        {
          "output_type": "execute_result",
          "data": {
            "text/plain": [
              "count                  395547\n",
              "unique                    535\n",
              "top       2017-11-11 00:00:00\n",
              "freq                     9623\n",
              "first     2017-08-19 00:00:00\n",
              "last      2019-02-04 00:00:00\n",
              "Name: start, dtype: object"
            ]
          },
          "metadata": {
            "tags": []
          },
          "execution_count": 10
        }
      ]
    },
    {
      "cell_type": "markdown",
      "metadata": {
        "id": "lXabYGYTboJb",
        "colab_type": "text"
      },
      "source": [
        "2018년 이후, 2019년 2월 이전 데이터만 사용하기 위해,  \n",
        "**start**의 데이터 터입을 datetime으로 바꿔준다\n"
      ]
    },
    {
      "cell_type": "code",
      "metadata": {
        "id": "YW_A9za5VBFg",
        "colab_type": "code",
        "outputId": "9e5dbcdd-4018-4786-ca29-08a0985aa420",
        "colab": {
          "base_uri": "https://localhost:8080/",
          "height": 140
        }
      },
      "source": [
        "petition_data.start = pd.to_datetime(petition_data.start, format='%Y%m%d')\n",
        "petition_data = petition_data[petition_data.start >= '2018-01-01']\n",
        "petition_data = petition_data[petition_data.start <= '2019-01-31']\n",
        "petition_data.start.describe()"
      ],
      "execution_count": 11,
      "outputs": [
        {
          "output_type": "execute_result",
          "data": {
            "text/plain": [
              "count                  321168\n",
              "unique                    396\n",
              "top       2018-01-11 00:00:00\n",
              "freq                     3368\n",
              "first     2018-01-01 00:00:00\n",
              "last      2019-01-31 00:00:00\n",
              "Name: start, dtype: object"
            ]
          },
          "metadata": {
            "tags": []
          },
          "execution_count": 11
        }
      ]
    },
    {
      "cell_type": "markdown",
      "metadata": {
        "id": "LJ-g4H2zVnRl",
        "colab_type": "text"
      },
      "source": [
        "2018년 01월부터 2019년 02월 데이터의 월별 추이를 비교하기 위해,  \n",
        "연월의 데이터만을 추출한다"
      ]
    },
    {
      "cell_type": "code",
      "metadata": {
        "id": "oYxYa3YQWHvF",
        "colab_type": "code",
        "outputId": "aabf6c2f-8486-4528-ce2c-e97283f1808c",
        "colab": {
          "base_uri": "https://localhost:8080/",
          "height": 34
        }
      },
      "source": [
        "petition_data['yearmonth'] = petition_data.start.map(lambda x: 100 * x.year + x.month)\n",
        "petition_data.columns.values"
      ],
      "execution_count": 12,
      "outputs": [
        {
          "output_type": "execute_result",
          "data": {
            "text/plain": [
              "array(['start', 'votes', 'category', 'title', 'yearmonth'], dtype=object)"
            ]
          },
          "metadata": {
            "tags": []
          },
          "execution_count": 12
        }
      ]
    },
    {
      "cell_type": "markdown",
      "metadata": {
        "id": "6xEtuMl4WIuN",
        "colab_type": "text"
      },
      "source": [
        "\n",
        "이제 월별 추이를 살펴보자\n",
        "\n"
      ]
    },
    {
      "cell_type": "code",
      "metadata": {
        "id": "NMTTR3CGWHya",
        "colab_type": "code",
        "outputId": "d407f584-009c-4f29-b5eb-625edd94508e",
        "colab": {
          "base_uri": "https://localhost:8080/",
          "height": 518
        }
      },
      "source": [
        "plt.figure(figsize=(16, 8))\n",
        "plt.title('Petitions uploaded per month', fontsize=20)\n",
        "sns.countplot(data=petition_data, y='yearmonth')\n",
        "plt.show()"
      ],
      "execution_count": 13,
      "outputs": [
        {
          "output_type": "display_data",
          "data": {
            "image/png": "[encoded data removed]",
            "text/plain": [
              "<Figure size 1152x576 with 1 Axes>"
            ]
          },
          "metadata": {
            "tags": [],
            "needs_background": "light"
          }
        }
      ]
    },
    {
      "cell_type": "markdown",
      "metadata": {
        "id": "iDmFGf5RXrOs",
        "colab_type": "text"
      },
      "source": [
        "그렇게 유의미한 정보는 아닌듯하다..  \n",
        "일별로 혹시 경향성을 보일까 싶어 같은 방식으로 보았지만 크게 의미 없는 듯하다."
      ]
    },
    {
      "cell_type": "code",
      "metadata": {
        "id": "plLnG2DSXYKa",
        "colab_type": "code",
        "outputId": "a858edd7-b95a-4b8d-ba71-0cb66cd8f97d",
        "colab": {
          "base_uri": "https://localhost:8080/",
          "height": 300
        }
      },
      "source": [
        "petition_data['day'] = petition_data.start.map(lambda x: x.day)\n",
        "petition_data.columns.values\n",
        "plt.figure(figsize=(20, 4))\n",
        "plt.title('Petitions uploaded per day', fontsize=20)\n",
        "sns.countplot(data=petition_data, x='day')\n",
        "plt.show()"
      ],
      "execution_count": 14,
      "outputs": [
        {
          "output_type": "display_data",
          "data": {
            "image/png": "[encoded data removed]",
            "text/plain": [
              "<Figure size 1440x288 with 1 Axes>"
            ]
          },
          "metadata": {
            "tags": [],
            "needs_background": "light"
          }
        }
      ]
    },
    {
      "cell_type": "markdown",
      "metadata": {
        "id": "h-1hb-7I0es5",
        "colab_type": "text"
      },
      "source": [
        "## Votes"
      ]
    },
    {
      "cell_type": "code",
      "metadata": {
        "id": "3nwDgzRi0giI",
        "colab_type": "code",
        "outputId": "3ac77fe8-01fe-4a78-ed1a-160fd75fd680",
        "colab": {
          "base_uri": "https://localhost:8080/",
          "height": 620
        }
      },
      "source": [
        "plt.figure(figsize=(16, 10))\n",
        "plt.subplot(211)\n",
        "# sns.distplot(petition_data.votes)\n",
        "sns.kdeplot(data=petition_data.votes, shade=True, legend=False)\n",
        "plt.title('Distribution of Votes')\n",
        "\n",
        "plt.subplot(223)\n",
        "# sns.distplot(petition_data.votes)\n",
        "sns.kdeplot(data=petition_data.votes, shade=True, legend=False, color='r')\n",
        "plt.title('Distribution of Votes (0 - 0.4e6)')\n",
        "plt.xlim(0, 0.4e6)\n",
        "\n",
        "plt.subplot(224)\n",
        "# sns.distplot(petition_data.votes)\n",
        "sns.kdeplot(data=petition_data.votes, shade=True, legend=False, color='r')\n",
        "plt.title('Distribution of Votes (1.0e6 - 1.2e6)')\n",
        "plt.xlim(1.0e6, 1.2e6)\n",
        "plt.ylim(0, 0.2e-8)\n",
        "plt.show()"
      ],
      "execution_count": 15,
      "outputs": [
        {
          "output_type": "display_data",
          "data": {
            "image/png": "[encoded data removed]",
            "text/plain": [
              "<Figure size 1152x720 with 3 Axes>"
            ]
          },
          "metadata": {
            "tags": [],
            "needs_background": "light"
          }
        }
      ]
    },
    {
      "cell_type": "markdown",
      "metadata": {
        "id": "CYv4blYI6WQ5",
        "colab_type": "text"
      },
      "source": [
        "---"
      ]
    },
    {
      "cell_type": "code",
      "metadata": {
        "id": "UVHTh2wMvgbh",
        "colab_type": "code",
        "outputId": "15e9f4c7-a7ae-4f84-cc00-1e1e775fc2e8",
        "colab": {
          "base_uri": "https://localhost:8080/",
          "height": 166
        }
      },
      "source": [
        "petition_data.describe(include='O')"
      ],
      "execution_count": 16,
      "outputs": [
        {
          "output_type": "execute_result",
          "data": {
            "text/html": [
              "<div>\n",
              "<style scoped>\n",
              "    .dataframe tbody tr th:only-of-type {\n",
              "        vertical-align: middle;\n",
              "    }\n",
              "\n",
              "    .dataframe tbody tr th {\n",
              "        vertical-align: top;\n",
              "    }\n",
              "\n",
              "    .dataframe thead th {\n",
              "        text-align: right;\n",
              "    }\n",
              "</style>\n",
              "<table border=\"1\" class=\"dataframe\">\n",
              "  <thead>\n",
              "    <tr style=\"text-align: right;\">\n",
              "      <th></th>\n",
              "      <th>category</th>\n",
              "      <th>title</th>\n",
              "    </tr>\n",
              "  </thead>\n",
              "  <tbody>\n",
              "    <tr>\n",
              "      <th>count</th>\n",
              "      <td>321168</td>\n",
              "      <td>321168</td>\n",
              "    </tr>\n",
              "    <tr>\n",
              "      <th>unique</th>\n",
              "      <td>17</td>\n",
              "      <td>297476</td>\n",
              "    </tr>\n",
              "    <tr>\n",
              "      <th>top</th>\n",
              "      <td>정치개혁</td>\n",
              "      <td>국민연금</td>\n",
              "    </tr>\n",
              "    <tr>\n",
              "      <th>freq</th>\n",
              "      <td>47842</td>\n",
              "      <td>293</td>\n",
              "    </tr>\n",
              "  </tbody>\n",
              "</table>\n",
              "</div>"
            ],
            "text/plain": [
              "       category   title\n",
              "count    321168  321168\n",
              "unique       17  297476\n",
              "top        정치개혁    국민연금\n",
              "freq      47842     293"
            ]
          },
          "metadata": {
            "tags": []
          },
          "execution_count": 16
        }
      ]
    },
    {
      "cell_type": "markdown",
      "metadata": {
        "id": "k60f7okubGqK",
        "colab_type": "text"
      },
      "source": [
        "**category**의 경우, 17개가 있으며, 그 중 '정치개혁'이 가장 많은 것을 확인할 수 있다.  \n",
        "**title**의 경우, 중복된 title이 약 2만개 정도 존재함을 볼 수 있고, 중복된 제목 중 '국민연금'이 가장 많다는 것을 확인할 수 있다."
      ]
    },
    {
      "cell_type": "markdown",
      "metadata": {
        "id": "b-xtHo476nWJ",
        "colab_type": "text"
      },
      "source": [
        "## Category\n",
        "\n",
        "우선 카테고리에 어떤 항목들이 있는지 살펴보자"
      ]
    },
    {
      "cell_type": "code",
      "metadata": {
        "id": "TNgfYOc17s46",
        "colab_type": "code",
        "outputId": "0ba583ae-27f5-41d4-c300-34134dc95e1a",
        "colab": {
          "base_uri": "https://localhost:8080/",
          "height": 334
        }
      },
      "source": [
        "petition_data.category.value_counts()"
      ],
      "execution_count": 17,
      "outputs": [
        {
          "output_type": "execute_result",
          "data": {
            "text/plain": [
              "정치개혁           47842\n",
              "기타             38968\n",
              "인권/성평등         25940\n",
              "교통/건축/국토       25139\n",
              "안전/환경          23673\n",
              "외교/통일/국방       23363\n",
              "일자리            20246\n",
              "보건복지           19684\n",
              "육아/교육          18109\n",
              "행정             16711\n",
              "문화/예술/체육/언론    16360\n",
              "경제민주화          15498\n",
              "미래             15194\n",
              "성장동력            6691\n",
              "반려동물            3336\n",
              "저출산/고령화대책       2814\n",
              "농산어촌            1600\n",
              "Name: category, dtype: int64"
            ]
          },
          "metadata": {
            "tags": []
          },
          "execution_count": 17
        }
      ]
    },
    {
      "cell_type": "markdown",
      "metadata": {
        "id": "zNE96D-xSn3Q",
        "colab_type": "text"
      },
      "source": [
        "총 17개의 카테고리가 있는데, 더 용이하게 다루기 위해 영어 제목으로 바꿔야한다."
      ]
    },
    {
      "cell_type": "code",
      "metadata": {
        "id": "TF8O-J1K_fGv",
        "colab_type": "code",
        "outputId": "3bb04e91-a991-4cf8-e492-c8d532cdd6ac",
        "colab": {
          "base_uri": "https://localhost:8080/",
          "height": 105
        }
      },
      "source": [
        "ori_category = list(petition_data.category.value_counts().index)\n",
        "new_category = ['politics', 'etc', 'human_rights', 'traffic', 'safety/environment', \\\n",
        "               'dpilomacy', 'education', 'welfare', 'jobs', 'administration', \\\n",
        "               'arts/press', 'future', 'economy', 'development', 'pets', \\\n",
        "               'birth_rate/aging', 'agriculture']\n",
        "for o, n in zip(ori_category, new_category):\n",
        "  petition_data.category[petition_data.category == o] = n"
      ],
      "execution_count": 18,
      "outputs": [
        {
          "output_type": "stream",
          "text": [
            "/usr/local/lib/python3.6/dist-packages/ipykernel_launcher.py:4: SettingWithCopyWarning: \n",
            "A value is trying to be set on a copy of a slice from a DataFrame\n",
            "\n",
            "See the caveats in the documentation: https://pandas.pydata.org/pandas-docs/stable/user_guide/indexing.html#returning-a-view-versus-a-copy\n",
            "  after removing the cwd from sys.path.\n"
          ],
          "name": "stderr"
        }
      ]
    },
    {
      "cell_type": "code",
      "metadata": {
        "id": "vkGO_PvCSya8",
        "colab_type": "code",
        "outputId": "b2530b5a-ebba-4dfe-dc15-a134f9ab55bc",
        "colab": {
          "base_uri": "https://localhost:8080/",
          "height": 334
        }
      },
      "source": [
        "petition_data.category.value_counts()"
      ],
      "execution_count": 19,
      "outputs": [
        {
          "output_type": "execute_result",
          "data": {
            "text/plain": [
              "politics              47842\n",
              "etc                   38968\n",
              "human_rights          25940\n",
              "traffic               25139\n",
              "safety/environment    23673\n",
              "dpilomacy             23363\n",
              "education             20246\n",
              "welfare               19684\n",
              "jobs                  18109\n",
              "administration        16711\n",
              "arts/press            16360\n",
              "future                15498\n",
              "economy               15194\n",
              "development            6691\n",
              "pets                   3336\n",
              "birth_rate/aging       2814\n",
              "agriculture            1600\n",
              "Name: category, dtype: int64"
            ]
          },
          "metadata": {
            "tags": []
          },
          "execution_count": 19
        }
      ]
    },
    {
      "cell_type": "markdown",
      "metadata": {
        "id": "xnitaPqKS0iL",
        "colab_type": "text"
      },
      "source": [
        "이렇게 영어 카테고리로 바꾸었다.  \n",
        "각 카테고리별로 올라온 청원 수가 어떻게 되는지 살펴보자"
      ]
    },
    {
      "cell_type": "code",
      "metadata": {
        "id": "uYGIzTedvgeA",
        "colab_type": "code",
        "outputId": "87061d60-3af4-4704-871d-899cfeb2f694",
        "colab": {
          "base_uri": "https://localhost:8080/",
          "height": 627
        }
      },
      "source": [
        "plt.figure(figsize=(16,10))\n",
        "plt.title(\"Number of Petitions per cateogry\", fontsize=20)\n",
        "sns.countplot(data=petition_data, y='category', palette=\"Set3\", order=petition_data.category.value_counts().index)\n",
        "plt.show()"
      ],
      "execution_count": 20,
      "outputs": [
        {
          "output_type": "display_data",
          "data": {
            "image/png": "[encoded data removed]",
            "text/plain": [
              "<Figure size 1152x720 with 1 Axes>"
            ]
          },
          "metadata": {
            "tags": [],
            "needs_background": "light"
          }
        }
      ]
    },
    {
      "cell_type": "markdown",
      "metadata": {
        "id": "HJqoHYjxS7Z7",
        "colab_type": "text"
      },
      "source": [
        "17개의 카테고리 중, Top 5를 뽑아 더 자세하게 보도록 하자"
      ]
    },
    {
      "cell_type": "code",
      "metadata": {
        "id": "La9oRaqRvggl",
        "colab_type": "code",
        "outputId": "1a24f76e-076c-41a4-fc9b-bc13ca20acf5",
        "colab": {
          "base_uri": "https://localhost:8080/",
          "height": 300
        }
      },
      "source": [
        "plt.figure(figsize=(16, 4))\n",
        "plt.title(\"Number of Petitions per cateogry (top 5)\", fontsize=20)\n",
        "sns.countplot(data=petition_data, y='category', palette=\"Set3\", order=petition_data.category.value_counts().iloc[:5].index)\n",
        "plt.show()"
      ],
      "execution_count": 21,
      "outputs": [
        {
          "output_type": "display_data",
          "data": {
            "image/png": "[encoded data removed]",
            "text/plain": [
              "<Figure size 1152x288 with 1 Axes>"
            ]
          },
          "metadata": {
            "tags": [],
            "needs_background": "light"
          }
        }
      ]
    },
    {
      "cell_type": "markdown",
      "metadata": {
        "id": "t9NHHNVhVKuT",
        "colab_type": "text"
      },
      "source": [
        "## Title\n",
        "먼저, **title**에는 어떤 내용이 들어가는지, 몇개만 그 내용을 살펴보자"
      ]
    },
    {
      "cell_type": "code",
      "metadata": {
        "id": "U2NA-CJyUXVZ",
        "colab_type": "code",
        "outputId": "c3576bc4-0b94-4d48-b2a6-738bbc2f19a0",
        "colab": {
          "base_uri": "https://localhost:8080/",
          "height": 193
        }
      },
      "source": [
        "print(\"- \", end='')\n",
        "print(*petition_data.title[:10].values, sep='\\n- ')"
      ],
      "execution_count": 22,
      "outputs": [
        {
          "output_type": "stream",
          "text": [
            "- 아...이런데서 이상한 글이 올라오네요...\n",
            "- 현재 사람들 사이에서 유행하는 게임 \"배틀 그라운드\" 에 대한 제재를 가하려 합니다.\n",
            "- 양심수 석방 국가보안법 철폐\n",
            "- 민주화유공자들에 대한 국가유공자 인정 요청\n",
            "- UAE 관련\n",
            "- 칼퇴근법 하루 빨리 시행되었으면 합니다\n",
            "- 빠른년생을 위한 법 개정\n",
            "- 다주택자만 문제일까요?\n",
            "- 가정폭력 처벌 수위를 강화해주세요\n",
            "- 10년공공임대분양가를 5년공공임대 분양전환 산정방식과 동일하게 변경해 주세요.\n"
          ],
          "name": "stdout"
        }
      ]
    },
    {
      "cell_type": "markdown",
      "metadata": {
        "id": "SkkdTcyTVKOE",
        "colab_type": "text"
      },
      "source": [
        "우리는 각 Title의 키워드를 추출하여,  \n",
        "가장 많은 관심을 받은 주제가 무엇인지 알아보았다\n"
      ]
    },
    {
      "cell_type": "markdown",
      "metadata": {
        "id": "UtJMMMT1cOcr",
        "colab_type": "text"
      },
      "source": [
        "\n",
        "```ptyhon\n",
        "from konlpy.utils import pprint\n",
        "from konlpy.tag import Kkma, Okt\n",
        "from collections import Counter\n",
        "from wordcloud import WordCloud\n",
        "\n",
        "kkma=Kkma()\n",
        "\n",
        "df = pd.read_csv('https://s3.ap-northeast-2.amazonaws.com/data10902/petition/petition.csv', parse_dates=['start', 'end'])\n",
        "\n",
        "df['start']=pd.to_datetime(df['start'], format='%Y%m%d')\n",
        "data=df['title']\n",
        "data.to_csv('titlegroup.txt',index=False, header=None)\n",
        "with open(\"C:/Users/student/titlegroup.txt\",\"r\",encoding='utf-8') as f:\n",
        "    lines= f.readlines()\n",
        "\n",
        "okt = Okt()\n",
        "nouns = []\n",
        "for line in lines:\n",
        "    noun = okt.nouns(line)\n",
        "    nouns.extend(noun)\n",
        "\n",
        "test = Counter(nouns)\n",
        "delete_list = ['대한', '위해', '시오', '관련', '대해', '모든','폐지','제발','한국','국가','대한민국','우리','이상']\n",
        "for word, freq in test.items():\n",
        "    # 단어 길이가 1인 경우\n",
        "    if len(word) == 1 or freq < 1700:\n",
        "        delete_list.append(word)\n",
        "for word in delete_list:\n",
        "    del test[word]\n",
        "test = test.most_common(100)\n",
        "\n",
        "wc=WordCloud(font_path='C:/Users/student/Desktop/MalgunGothic.TTF',background_color='white', width=1000, height=1000, max_words=100, max_font_size=300)\n",
        "wc.generate_from_frequencies(dict(test))\n",
        "wc.to_file(\"title_wc123.png\")\n",
        "```\n",
        "\n"
      ]
    },
    {
      "cell_type": "markdown",
      "metadata": {
        "id": "4hyF7W8sZnLz",
        "colab_type": "text"
      },
      "source": [
        "---\n",
        "\n",
        "### 데이터 간 관계\n",
        "\n",
        "우리는 앞서 category 항목에서 가장 많은 글 수를 가진 카테고리를 확인했다.\n",
        "- 정치개혁\n",
        "- 기타\n",
        "- 인권/성평등\n",
        "- 교통/건축/국토\n",
        "- 안전/환경\n",
        "\n",
        "그렇다면 각 카테고리별로 받은 청원 동의수도 비슷한 경향을 보일까?"
      ]
    },
    {
      "cell_type": "code",
      "metadata": {
        "id": "XRDwFMG-ZgOU",
        "colab_type": "code",
        "outputId": "4223f2bb-63ac-4d0f-9642-bd86222b6e05",
        "colab": {
          "base_uri": "https://localhost:8080/",
          "height": 627
        }
      },
      "source": [
        "plt.figure(figsize=(16, 10))\n",
        "plt.title('Maximum votes per each Category', fontsize=20)\n",
        "sns.barplot(data=petition_data, x='votes', y='category', palette=\"Set3\", ci=None)\n",
        "plt.show()"
      ],
      "execution_count": 38,
      "outputs": [
        {
          "output_type": "display_data",
          "data": {
            "image/png": "[encoded data removed]",
            "text/plain": [
              "<Figure size 1152x720 with 1 Axes>"
            ]
          },
          "metadata": {
            "tags": [],
            "needs_background": "light"
          }
        }
      ]
    },
    {
      "cell_type": "markdown",
      "metadata": {
        "id": "kKFPYGTbdN1Z",
        "colab_type": "text"
      },
      "source": [
        "카테고리 당 가장 많은 동의를 받은 청원수가 큰 카테고리는  \n",
        "- 반려 동물\n",
        "- 정치개혁\n",
        "- 안전/환경\n",
        "- 문화/예술/체육/언론\n",
        "- 일자리\n",
        "\n",
        "로, 많은 청원이 올라온 카테고리와는 또 다른 면을 보여준다\n",
        "\n",
        "각 카테고리별 총 청원 동의수 또한 볼 수 있다"
      ]
    },
    {
      "cell_type": "code",
      "metadata": {
        "id": "f-hanvWLfnjh",
        "colab_type": "code",
        "outputId": "5cba0a9c-9c7a-429b-8e8e-0c5343c683fc",
        "colab": {
          "base_uri": "https://localhost:8080/",
          "height": 626
        }
      },
      "source": [
        "group_by_category = petition_data.votes.groupby(petition_data.category).sum().sort_values(ascending=False)\n",
        "\n",
        "plt.figure(figsize=(16, 10))\n",
        "plt.title('Total votes per each Category', fontsize=20)\n",
        "sns.barplot(y=group_by_category.index, x=group_by_category.values, order=group_by_category.index)\n",
        "plt.show()"
      ],
      "execution_count": 25,
      "outputs": [
        {
          "output_type": "display_data",
          "data": {
            "image/png": "[encoded data removed]",
            "text/plain": [
              "<Figure size 1152x720 with 1 Axes>"
            ]
          },
          "metadata": {
            "tags": [],
            "needs_background": "light"
          }
        }
      ]
    },
    {
      "cell_type": "markdown",
      "metadata": {
        "id": "igQRtvW2h60f",
        "colab_type": "text"
      },
      "source": [
        "가장 많은 총 동의 수를 얻은 카테고리는  \n",
        "- 인원/성평등\n",
        "- 안전/환경\n",
        "- 정치개혁\n",
        "- 기타\n",
        "- 일자리\n",
        "\n",
        "로 볼 수 있다.\n"
      ]
    },
    {
      "cell_type": "markdown",
      "metadata": {
        "id": "F3uX19N1ZxKa",
        "colab_type": "text"
      },
      "source": [
        "---\n",
        "동의 수 별 경향을 파악해보기 위해,  \n",
        "답변을 받아야하는 기준인 20만개의 동의를 받은 청원 글,  \n",
        "답변을 받지 않아도 되지만 10만개 이상의 많은 동의를 받은 청원 글,  \n",
        "그리고 10만개 미만의 동의를 받은 청원 글로 분류해보았다"
      ]
    },
    {
      "cell_type": "code",
      "metadata": {
        "id": "TRxcLdUwljwQ",
        "colab_type": "code",
        "colab": {}
      },
      "source": [
        "high = petition_data[petition_data.votes >= 200000]\n",
        "middle = petition_data[petition_data.votes < 200000]\n",
        "middle = middle[middle.votes >= 100000]\n",
        "low = petition_data[petition_data.votes < 100000]"
      ],
      "execution_count": 0,
      "outputs": []
    },
    {
      "cell_type": "code",
      "metadata": {
        "id": "bU2FGYyTmGGk",
        "colab_type": "code",
        "colab": {
          "base_uri": "https://localhost:8080/",
          "height": 70
        },
        "outputId": "554856c7-4853-42ae-f736-6b6704c623a2"
      },
      "source": [
        "print(\"20만개 이상:\", high.size, \"\\n10만개 이상 20만개 미만:\", middle.size, \"\\n10만개 미만:\", low.size)"
      ],
      "execution_count": 31,
      "outputs": [
        {
          "output_type": "stream",
          "text": [
            "20만개 이상: 432 \n",
            "10만개 이상 20만개 미만: 150 \n",
            "10만개 미만: 1926426\n"
          ],
          "name": "stdout"
        }
      ]
    },
    {
      "cell_type": "markdown",
      "metadata": {
        "id": "sG9Fwd9rnRJZ",
        "colab_type": "text"
      },
      "source": [
        "각 분류 별로, 카테고리의 분포를 살펴보자"
      ]
    },
    {
      "cell_type": "code",
      "metadata": {
        "id": "J6acgs-InQlv",
        "colab_type": "code",
        "colab": {
          "base_uri": "https://localhost:8080/",
          "height": 1000
        },
        "outputId": "75a3c2db-509f-40c1-9fb7-0e9758a703e8"
      },
      "source": [
        "plt.figure(figsize=(16, 20))\n",
        "\n",
        "plt.subplot(311)\n",
        "plt.title('Category of Petition with over 20,0000 votes', fontsize=20)\n",
        "sns.barplot(data=high, x='votes', y='category', palette=\"Set3\", ci=None)\n",
        "\n",
        "plt.subplot(312)\n",
        "plt.title('Category of Petition with over 10,0000, under 20,0000 votes', fontsize=20)\n",
        "sns.barplot(data=middle, x='votes', y='category', palette=\"Set3\", ci=None)\n",
        "\n",
        "plt.subplot(313)\n",
        "plt.title('Category of Petition with under 10,0000 votes', fontsize=20)\n",
        "sns.barplot(data=low, x='votes', y='category', palette=\"Set3\", ci=None)\n",
        "\n",
        "plt.show()"
      ],
      "execution_count": 36,
      "outputs": [
        {
          "output_type": "display_data",
          "data": {
            "image/png": "[encoded data removed]",
            "text/plain": [
              "<Figure size 1152x1440 with 3 Axes>"
            ]
          },
          "metadata": {
            "tags": [],
            "needs_background": "light"
          }
        }
      ]
    },
    {
      "cell_type": "markdown",
      "metadata": {
        "id": "lVtWRBWu8wQ_",
        "colab_type": "text"
      },
      "source": [
        "- 100,000 이상의 두 그래프의 경우 비슷한 양상을 보였으며, 주로 **'human_right'**에 국민의 많은 청원 및 지지율을 받았다.\n",
        "\n",
        "- 100,000 이하 청원의 경우 **'politics'**와 **'etc'**가 각각 1, 2위이고, 답변을 받지 못했지만, 다양한 카테고리에 국민들이 관심을 갖는 것을 확인할 수 있었다."
      ]
    },
    {
      "cell_type": "markdown",
      "metadata": {
        "id": "-QwVUxx7oarC",
        "colab_type": "text"
      },
      "source": [
        "또한, 10만개 이상의 청원글의 경우, 한번도 다루어지지 않은 카테고리가 있음을 발견할 수 있다.  \n"
      ]
    },
    {
      "cell_type": "code",
      "metadata": {
        "id": "4HCFmyMeoJKH",
        "colab_type": "code",
        "colab": {
          "base_uri": "https://localhost:8080/",
          "height": 34
        },
        "outputId": "2f8fe917-7f56-47b3-8d41-21b09c62f4c0"
      },
      "source": [
        "cat = high.category.value_counts().index\n",
        "not_included = []\n",
        "for tmp in new_category:\n",
        "  if tmp not in cat:\n",
        "    not_included.append(tmp)\n",
        "print(not_included)\n",
        "  "
      ],
      "execution_count": 43,
      "outputs": [
        {
          "output_type": "stream",
          "text": [
            "['education', 'economy', 'development', 'birth_rate/aging', 'agriculture']\n"
          ],
          "name": "stdout"
        }
      ]
    },
    {
      "cell_type": "code",
      "metadata": {
        "id": "nXoHA_Geopwj",
        "colab_type": "code",
        "colab": {
          "base_uri": "https://localhost:8080/",
          "height": 34
        },
        "outputId": "26944ea7-5c98-44b3-8504-b02738d5b299"
      },
      "source": [
        "cat = middle.category.value_counts().index\n",
        "not_included = []\n",
        "for tmp in new_category:\n",
        "  if tmp not in cat:\n",
        "    not_included.append(tmp)\n",
        "print(not_included)"
      ],
      "execution_count": 44,
      "outputs": [
        {
          "output_type": "stream",
          "text": [
            "['traffic', 'education', 'arts/press', 'economy', 'development', 'pets', 'birth_rate/aging', 'agriculture']\n"
          ],
          "name": "stdout"
        }
      ]
    },
    {
      "cell_type": "markdown",
      "metadata": {
        "id": "a0hLI2pVpFdX",
        "colab_type": "text"
      },
      "source": [
        "# 재밌구만"
      ]
    }
  ]
}