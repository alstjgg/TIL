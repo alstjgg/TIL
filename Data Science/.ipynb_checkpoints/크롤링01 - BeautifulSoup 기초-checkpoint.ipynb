{
 "cells": [
  {
   "cell_type": "markdown",
   "metadata": {},
   "source": [
    "# 웹 크롤링\n",
    "> 크롤링 : .. 조직적, 자동화된 방법으로 월드 와이드 웹을 탐색하는 컴퓨터 프로그램 ..\n",
    "\n",
    "### Libraries"
   ]
  },
  {
   "cell_type": "code",
   "execution_count": 36,
   "metadata": {},
   "outputs": [],
   "source": [
    "import requests\n",
    "from bs4 import BeautifulSoup"
   ]
  },
  {
   "cell_type": "markdown",
   "metadata": {},
   "source": [
    "- **requests** : 웹 상의 데이터를 가져올 때\n",
    "- **BeautifulSoup** : 가져온 데이터에서 필요한 정보를 파싱할 때\n",
    "    - HTML 및 XML 문서를 구문 분석하기위한 Python 패키지"
   ]
  },
  {
   "cell_type": "markdown",
   "metadata": {},
   "source": [
    "### 데이터 가져오기"
   ]
  },
  {
   "cell_type": "code",
   "execution_count": 3,
   "metadata": {},
   "outputs": [],
   "source": [
    "url = 'https://search.naver.com/search.naver?query=코로나&where=news&ie=utf8&sm=nws_hty'\n",
    "resp = requests.get(url)"
   ]
  },
  {
   "cell_type": "markdown",
   "metadata": {},
   "source": [
    "- **url** : 가져오고 싶은 데이터의 주소\n",
    "- `requests.get()` : 데이터 수신 요청\n",
    "    - resp 출력시 200 : 성공\n",
    "    - resp 출력시 4~ : 실패\n",
    "    - resp.text / resp.context : 문자열로 디코딩된 결과 / 인코딩 되어있는 원본 결과 (선호됨)"
   ]
  },
  {
   "cell_type": "code",
   "execution_count": 30,
   "metadata": {},
   "outputs": [],
   "source": [
    "url = 'https://search.naver.com/search.naver'\n",
    "query = {\n",
    "    'where' : 'news',\n",
    "    'query' : '코로나'\n",
    "}\n",
    "resp = requests.get(url, query)"
   ]
  },
  {
   "cell_type": "markdown",
   "metadata": {},
   "source": [
    "- **url** : 프로토콜 + 주소값 + 리소스경로\n",
    "- **query** : 쿼리 스트링, Dictionary or bytes to be sent in the query string"
   ]
  },
  {
   "cell_type": "markdown",
   "metadata": {},
   "source": [
    "### 데이터 처리"
   ]
  },
  {
   "cell_type": "code",
   "execution_count": 31,
   "metadata": {},
   "outputs": [],
   "source": [
    "soup = BeautifulSoup(resp.content, 'lxml')"
   ]
  },
  {
   "cell_type": "markdown",
   "metadata": {},
   "source": [
    "- BeautifulSoup의 여러 파서\n",
    "\n",
    "|Parser|선언 방법|장점|단점\n",
    "|:-|:-|:-|:-|\n",
    "|파이선 html.parser|BeautifulSoup(markup, 'html.parser')|설치 불필요|\n",
    "|lxml HTML parser|BeautifulSoup(markup, 'lxml')|매우 빠름xllml 설치 필요|\n",
    "|lxml XML parser|BeautifulSoup(markup, 'xml')|매우 빠름|lxml 설치 피요|\n",
    "|html5lib|BeautifulSoup(markup, 'html5lib')|웹 브라우저와 같은 방식으로 페이지를 파싱함|html5lib 설치 필요 + 매우 느림|\n",
    "\n",
    "- `lxml`이 가장 빠르고 효율적이여서 많이 사용된다\n",
    "- **soup**을 이용하여 html을 tag 단위로 파싱할 수 있다"
   ]
  },
  {
   "cell_type": "markdown",
   "metadata": {},
   "source": [
    "### 원하는 tag 찾기\n",
    "- tag들의 공통적인 족보 / 속성을 찾아야한다\n",
    "- `BeautifulSoup.select()` : html 내에서 원하는 부분만 선택\n",
    "- select문 안에는 원하는 조건을 입력하면 되는데, 여러 방식으로 기입할 수 있다\n",
    "    1. 태그명 (요소명)\n",
    "        - `select('태그명')`\n",
    "    2. 클래스명\n",
    "        - `select('.클래스명')`\n",
    "        - `select('태그명.클래스명')`\n",
    "    3. 아이디\n",
    "        - `select('#아이디명')`\n",
    "    4. 구조적 위치\n",
    "        - `select('상위태그명 > 하위태그명 > 하위태그명')`\n",
    "        - `select('상위태그명 > 바로아래태그명 하위태그명')`\n",
    "        - `select('상위태그명.클래스명 > 하위태그명.클래스명')` : 자식 태그 (바로 아래에 있다!)\n",
    "        - `select('상위태그명.클래스명 하위태그명')` : 자손 태그 (아래에 있는데 어딘지는 모르겠다)\n",
    "        - `select('#아이디명 > 태그명.클래스명')`\n",
    "    5. 태그 특정 속성 값\n",
    "        - `select('태그명[속성=값]')`"
   ]
  },
  {
   "cell_type": "code",
   "execution_count": 32,
   "metadata": {},
   "outputs": [
    {
     "data": {
      "text/plain": [
       "<a class=\" _sp_each_title\" href=\"https://imnews.imbc.com/replay/2020/nwtoday/article/5806272_32531.html\" onclick=\"return goOtherCR(this, 'a=nws*h.tit&amp;r=1&amp;i=88000119_000000000000000001044041&amp;g=214.0001044041&amp;u='+urlencode(this.href));\" target=\"_blank\" title=\"美서 코로나19 백신 '최종단계 임상시험'…&quot;시판 기대감&quot;\">美서 <strong class=\"hl\">코로나</strong>19 백신 '최종단계 임상시험'…\"시판 기대감\"</a>"
      ]
     },
     "execution_count": 32,
     "metadata": {},
     "output_type": "execute_result"
    }
   ],
   "source": [
    "a_tag = soup.select('ul.type01 li dl dt a')\n",
    "a_tag[0]"
   ]
  },
  {
   "cell_type": "markdown",
   "metadata": {},
   "source": [
    "### 필요한 정보 가져오기\n",
    "\n",
    "#### tag 벗기기\n",
    "- `<tag ~ > 내용 </태그>` 에서 *내용* 만 가져오기\n"
   ]
  },
  {
   "cell_type": "code",
   "execution_count": 33,
   "metadata": {},
   "outputs": [
    {
     "data": {
      "text/plain": [
       "'美서 코로나19 백신 \\'최종단계 임상시험\\'…\"시판 기대감\"'"
      ]
     },
     "execution_count": 33,
     "metadata": {},
     "output_type": "execute_result"
    }
   ],
   "source": [
    "a_tag[0].text"
   ]
  },
  {
   "cell_type": "code",
   "execution_count": 34,
   "metadata": {},
   "outputs": [
    {
     "name": "stdout",
     "output_type": "stream",
     "text": [
      "美서 코로나19 백신 '최종단계 임상시험'…\"시판 기대감\"\n",
      "EU \"중국·러시아, 코로나19 관련 허위정보 유포\"(종합)\n",
      "코로나 확진 45명…지역 40명 전원 수도권(종합)\n",
      "코로나19 확산 이후 모바일게임 설치 횟수 전년比 84% ↑\n",
      "[속보]기아차 소하리공장 직원 코로나 확진, 공장 하루 휴무\n",
      "[단독]강서 영어유치원 조리사 확진···원생들은 코로나검사 안해 불안\n",
      "이재명, 코로나19 대응 경기도의료원 임직원에 '특별휴가'\n",
      "포스트 코로나…바이오헬스·2차전지 수출 회복세 빨라\n",
      "코로나 여파에…대한항공 객실승무원 최대 1년 무급휴직한다(종합)\n",
      "[속보]코로나19 신규 확진자 45명···지역발생 40명\n"
     ]
    }
   ],
   "source": [
    "for a in a_tag:\n",
    "    print(a.text)"
   ]
  },
  {
   "cell_type": "markdown",
   "metadata": {},
   "source": [
    "#### tag 내 특정 속성 값 가져오기\n",
    "- 태그 내 정보를 가져올 때\n",
    "- 주로 링크 주소를 가져올 때 사용\n",
    "    - `<a href = '주소'> 내용 </a>` 형태"
   ]
  },
  {
   "cell_type": "code",
   "execution_count": 21,
   "metadata": {},
   "outputs": [
    {
     "data": {
      "text/plain": [
       "'https://imnews.imbc.com/replay/2020/nwtoday/article/5806272_32531.html'"
      ]
     },
     "execution_count": 21,
     "metadata": {},
     "output_type": "execute_result"
    }
   ],
   "source": [
    "a_tag[0]['href']"
   ]
  },
  {
   "cell_type": "code",
   "execution_count": 22,
   "metadata": {},
   "outputs": [
    {
     "name": "stdout",
     "output_type": "stream",
     "text": [
      "https://imnews.imbc.com/replay/2020/nwtoday/article/5806272_32531.html\n",
      "http://yna.kr/AKR20200610187951098?did=1195m\n",
      "http://news.khan.co.kr/kh_news/khan_art_view.html?artid=202006111027001&code=940601\n",
      "https://biz.chosun.com/site/data/html_dir/2020/06/11/2020061101362.html?utm_source=naver&utm_medium=original&utm_campaign=biz\n",
      "http://news.tvchosun.com/site/data/html_dir/2020/06/11/2020061190044.html\n",
      "https://view.asiae.co.kr/article/2020061105454700362\n",
      "http://www.fnnews.com/news/202006110815181184\n",
      "https://www.sedaily.com/NewsView/1Z3ZH5A9CZ\n",
      "https://biz.chosun.com/site/data/html_dir/2020/06/11/2020061101409.html?utm_source=naver&utm_medium=original&utm_campaign=biz\n",
      "http://yna.kr/AKR20200611056651003?did=1195m\n"
     ]
    }
   ],
   "source": [
    "for a in a_tag:\n",
    "    print(a['href'])"
   ]
  },
  {
   "cell_type": "code",
   "execution_count": 24,
   "metadata": {},
   "outputs": [
    {
     "name": "stdout",
     "output_type": "stream",
     "text": [
      "Help on function get in module requests.api:\n",
      "\n",
      "get(url, params=None, **kwargs)\n",
      "    Sends a GET request.\n",
      "    \n",
      "    :param url: URL for the new :class:`Request` object.\n",
      "    :param params: (optional) Dictionary or bytes to be sent in the query string for the :class:`Request`.\n",
      "    :param \\*\\*kwargs: Optional arguments that ``request`` takes.\n",
      "    :return: :class:`Response <Response>` object\n",
      "    :rtype: requests.Response\n",
      "\n"
     ]
    }
   ],
   "source": [
    "help(requests.get)"
   ]
  },
  {
   "cell_type": "markdown",
   "metadata": {},
   "source": [
    "---\n",
    "\n",
    "## 연습\n",
    "\n",
    "---\n",
    "### 뉴스 기사 100개 가져오기"
   ]
  },
  {
   "cell_type": "code",
   "execution_count": 41,
   "metadata": {},
   "outputs": [
    {
     "name": "stdout",
     "output_type": "stream",
     "text": [
      "美서 코로나19 백신 '최종단계 임상시험'…\"시판 기대감\"\n",
      "EU \"중국·러시아, 코로나19 관련 허위정보 유포\"(종합)\n",
      "우리 국민의 코로나 궁금증 1위는? '의심 증상'\n",
      "코로나 확진 45명…지역 40명 전원 수도권(종합)\n",
      "[속보]코로나19 신규 확진자 45명···지역발생 40명\n",
      "[단독]강서 영어유치원 조리사 확진···원생들은 코로나검사 안해 불안\n",
      "이재명, 코로나19 대응 경기도의료원 임직원에 '특별휴가'\n",
      "코로나 여파에…대한항공 객실승무원 최대 1년 무급휴직한다(종합)\n",
      "코로나에 게임업계는 호황...게임 이용자 두배 증가\n",
      "코로나 여파에…대한항공 객실승무원 최대 1년 무급휴직한다\n",
      "내년도 최저임금 심의 오늘 시작…최대 변수는 코로나19(종합)\n",
      "HK이노엔, 코로나19 백신 개발 착수\n",
      "이재명, 코로나19 대응 경기도의료원 임직원에 '특별휴가'\n",
      "코로나19 신규 확진 45명, 지역발생 40명 모두 수도권\n",
      "‘코로나 충격’ 3개월 연속 취업자 줄었다\n",
      "코로나 치료제 英임상시험 소식에 셀트리온그룹주 강세\n",
      "제약업계 직원 60% \"한국 코로나19 신약 개발못할 것\"\n",
      "카이스트, 코로나19 확산방지시스템 개발\n",
      "OECD \"올해 한국 경제성장률 -1.2%, 코로나 2차 확산땐 -2.5%\"\n",
      "코로나19 완치자, 혈장 공여 일주일새 6배…현재 75명\n",
      "한국인 코로나19 환자 중증 악화하는 위험요인 4개 찾았다\n",
      "롯데월드 방문 원묵고 3학년생, 코로나19 '음성' 최종 판정\n",
      "포스트 코로나…바이오헬스·2차전지 수출 회복세 빨라\n",
      "리치웨이발 코로나19, 3군데 집단에 동시전염(종합)\n",
      "“계속되는 수도권 감염”...코로나19 신규 확진 45명\n",
      "'코로나 소비'는 알뜰 소비? 마스크 지출↑ 여가비↓\n",
      "WHO, 코로나19 무증상 전파 드물다고 한 발언 재차 해명\n",
      "코로나의 이중생활? \"여가시간↑\" vs \"투잡 늘어\"\n",
      "코로나로 뜬 ‘K-방역’ 국제표준으로 만든다... 정부 로드맵 발표\n",
      "日·IOC, \"도쿄올림픽 간소하게\"..코로나로 차선책 택해\n",
      "정은경 \"롯데월드 코로나 고3, 거짓 양성인지 검토\"\n",
      "은성수 \"코로나 정상화 부담 최소화...초저금리시대, 금융혁신 강조\"\n",
      "코로나 앓는데 反기업법까지···숨넘어가는 기업들\n",
      "\"K-방역 대표주자\"...코로나19 진단기술 특허출원 급증\n",
      "파월 \"경제회복 매우 불확실‥회복속도 코로나19 억제에 달려\"(종합)\n",
      "[단독] 목동 학원가 또 코로나 비상···7세 확진 '무증상 감염'\n",
      "동남아 첫번째 코로나19 종식 선언국은 라오스\n",
      "코로나 2차 유행 우려 크다는데 영화관 티켓 세일…\"혼란스럽다\"\n",
      "코로나19 확진 45명 늘어…지역감염 40명 모두 수도권\n",
      "코로나 중증으로 가는 ‘4가지 요인’ 나왔다\n",
      "기아차 송호성 사장, 대표이사 선임...코로나19 해결 집중\n",
      "3000명 다닥다닥… 민노총 \"붙어 앉는다고 코로나 걸리나\"\n",
      "안보지원사 코로나19 추가 확진자 없어…최초감염자 경로 못밝혀(종합)\n",
      "코로나19 어제 45명 신규확진…40명 수도권\n",
      "주요은행 5월 연체율 일제히 상승…코로나19 영향권\n",
      "기아차 소하리공장서 코로나19 확진자 발생…11일 휴업\n",
      "코로나 발생 넉달 넘도록 들어맞지 않는 질본-서울시 통계\n",
      "류승범 측 “류승범, 아빠 된다…결혼은 코로나19 끝나고 간소하게” [공식입장]\n",
      "송파 강남대성학원 \"학생·강사 등 471명 코로나 전원 음성\"\n",
      "잘나가는 K 코로나 진단기술, 특허출원도 급증\n",
      "日 아소 다로 \"코로나19 대응, 한국과 같은 취급 말라\" 실언 논란\n",
      "\"나도 혹시 감염?\"…온라인 궁금증 1위는 '코로나19 의심 증상'\n",
      "코로나 시대 특급호텔·언택트 서비스 뜬다\n",
      "코로나19 무증상 전염 거의 없다더니…말 바꾼 WHO\n",
      "[속보] 코로나19 신규 확진자 45명...지역발생 40명\n",
      "5천명 근무하는 기아차 소하리공장 직원 코로나 `확진`\n",
      "셀트리온헬스케어 영국서 '램시마' 코로나19 임상시험 시작\n",
      "유엔총장 \"코로나19로 식량 비상사태…최소 8억명 굶주려\"\n",
      "“올 한국 코로나 차단 땐 경제성장률 -1.2% 전망”\n",
      "코로나19에 방문판매 피해 늘어···소보원, “대부분 60대, 주의해야”\n",
      "[단독] 교육부, 대입 평가 자료에 고교 코로나 피해사항 넣기로\n",
      "코로나19 확산 이후 모바일게임 설치 횟수 전년比 84% ↑\n",
      "코로나19 어제 45명 신규확진…지역발생 40명 전원 수도권\n",
      "코로나19 신규 감염 45명…지역사회 감염자 전원 수도권\n",
      "코로나 된서리 맞은 자산운용사…3곳 중 2곳 1분기 적자\n",
      "기아차 광명공장 직원 1명 코로나19 확진…생산라인 중단\n",
      "6월 이후 코로나19 지역사회 감염자 97%가 수도권에서 발생\n",
      "최악 지났지만…정유업계 “코로나 불황 1년은 더 간다”\n",
      "\"10대 기업 매출 해외의존도 61%…코로나로 적신호\"\n",
      "핑퐁 코로나, 삼성전자까지 스매싱...사업장 폐쇄\n",
      "코로나 덕분에 보호받네...천산갑의 인생역전\n",
      "[포스트 코로나]야놀자, 코로나 시대 여가 트렌드 'S.U.P.E.R' 발표\n",
      "세계 각국서 봉쇄 완화 후 코로나19 ‘2차 유행’ 조짐\n",
      "코로나에 결국…`여행주간`도 밀렸다\n",
      "[장보고]코로나로 허니문·여름휴가는 제주도…\"대신 할인은 없어요\"\n",
      "코로나19 덜 걸리는 혈액형 있다\n",
      "[속보] 코로나 신규확진 45명···지역발생 40명 전원 수도권\n",
      "“코로나 걱정요? 요새 일당 10만 원 일자리 없어요!”\n",
      "강경화 \"포스트 코로나, 경제회복 위한 교류 유지해야\"\n",
      "코로나19 ‘거리두기’로…전기요금 늘고 주유비 줄어\n",
      "文대통령 \"코로나 위기, 불평등 줄이는 기회로 삼겠다\"\n",
      "재개 앞둔 EPL서 1명 코로나19 추가 확진\n",
      "강남해커스어학원 직원 코로나19 확진 건물 일시 폐쇄\n",
      "국회 오늘 본회의…코로나19 대응 복지·산자위 증원\n",
      "미국 코로나 감염자 수 200만명 넘어섰다...확진·사망 모두 세계 1위\n",
      "사생활 침해 없는 코로나19 추적 앱 나온다\n",
      "OECD, 올해 韓성장률 -1.2%…코로나 확산시 -2.5% 전망\n",
      "WHO 사무총장도 해명 \"무증상자도 코로나19 전파\"\n",
      "김용범 기재부 차관 \"코로나19의 '1차 고용시장 충격' 벗어나\"\n",
      "은성수 “코로나 대출 상환시 충격 대비를”\n",
      "삼성전자에도 퍼진 코로나19 주의보\n",
      "김종인 “코로나 시대 이후 가장 큰 우려는 교육 불평등”\n",
      "'IT 빅5' 코로나19 독주체제…나스닥 장중 1만선 첫 돌파(종합)\n",
      "英 연구팀 \"어린이 코로나 사망률, 벼락맞을 확률보다 낮다\"\n",
      "코로나 불안심리 이용, 미검증 항바이러스제 유통·판매 일당 적발\n",
      "은성수 “코로나 금융지원, 상환시 충격대비를”\n",
      "이재명 \"코로나 대응 경기도의료원 전 직원 특별휴가\" [경기도]\n",
      "코로나19로 시계 흐린 아시아나항공, HDC현산 인수 난항\n",
      "수도권 코로나19 확산경로 '예측불가'…꼬리 무는 집단감염\n",
      "‘코로나19’ 확진자 머리 손질한 미용실 직원도 감염\n"
     ]
    }
   ],
   "source": [
    "for page in range(10):\n",
    "    url = 'https://search.naver.com/search.naver'\n",
    "    query = {\n",
    "        'where' : 'news',\n",
    "        'query' : '코로나',\n",
    "        'start' : page * 10 + 1  # 1, 11, 21, 31 ... , 91\n",
    "    }\n",
    "    resp = requests.get(url, query)\n",
    "    soup = BeautifulSoup(resp.content, 'lxml')\n",
    "    a_tag = soup.select('ul.type01 li dl dt a')\n",
    "    for a in a_tag:\n",
    "        print(a['title'])"
   ]
  },
  {
   "cell_type": "markdown",
   "metadata": {},
   "source": [
    "### 이미지 가져오기\n",
    "이미지는 tag 내 src의 url에 저장되어 있다"
   ]
  },
  {
   "cell_type": "code",
   "execution_count": 53,
   "metadata": {},
   "outputs": [],
   "source": [
    "url = 'https://search.naver.com/search.naver?query=코로나&where=news&ie=utf8&sm=nws_hty'\n",
    "soup = BeautifulSoup(requests.get(url).content, 'lxml')\n",
    "img_tag = soup.select('ul.type01 li a img')"
   ]
  },
  {
   "cell_type": "code",
   "execution_count": 59,
   "metadata": {},
   "outputs": [
    {
     "name": "stdout",
     "output_type": "stream",
     "text": [
      "https://search.pstatic.net/common/?src=https%3A%2F%2Fimgnews.pstatic.net%2Fimage%2Forigin%2F214%2F2020%2F06%2F11%2F1044041.jpg&type=ofullfill80_80_q75_re2\n",
      "https://search.pstatic.net/common/?src=https%3A%2F%2Fimgnews.pstatic.net%2Fimage%2Forigin%2F001%2F2020%2F06%2F11%2F11670129.jpg&type=ofullfill80_80_q75_re2\n",
      "https://search.pstatic.net/common/?src=https%3A%2F%2Fimgnews.pstatic.net%2Fimage%2Forigin%2F346%2F2020%2F06%2F11%2F32477.jpg&type=ofullfill80_80_q75_re2\n",
      "https://search.pstatic.net/common/?src=https%3A%2F%2Fimgnews.pstatic.net%2Fimage%2Forigin%2F448%2F2020%2F06%2F11%2F299563.jpg&type=ofullfill80_80_q75_re2\n",
      "https://search.pstatic.net/common/?src=https%3A%2F%2Fimgnews.pstatic.net%2Fimage%2Forigin%2F366%2F2020%2F06%2F11%2F536852.jpg&type=ofullfill80_80_q75_re2\n",
      "https://search.pstatic.net/common/?src=https%3A%2F%2Fimgnews.pstatic.net%2Fimage%2Forigin%2F032%2F2020%2F06%2F11%2F3014278.jpg&type=ofullfill80_80_q75_re2\n",
      "https://search.pstatic.net/common/?src=https%3A%2F%2Fimgnews.pstatic.net%2Fimage%2Forigin%2F011%2F2020%2F06%2F11%2F3752064.jpg&type=ofullfill80_80_q75_re2\n",
      "https://search.pstatic.net/common/?src=https%3A%2F%2Fimgnews.pstatic.net%2Fimage%2Forigin%2F014%2F2020%2F06%2F11%2F4441272.jpg&type=ofullfill80_80_q75_re2\n",
      "https://search.pstatic.net/common/?src=https%3A%2F%2Fimgnews.pstatic.net%2Fimage%2Forigin%2F028%2F2020%2F06%2F11%2F2500713.jpg&type=ofullfill80_80_q75_re2\n",
      "https://search.pstatic.net/common/?src=https%3A%2F%2Fimgnews.pstatic.net%2Fimage%2Forigin%2F001%2F2020%2F06%2F11%2F11670892.jpg&type=ofullfill80_80_q75_re2\n"
     ]
    }
   ],
   "source": [
    "for tag in img_tag:\n",
    "    print(tag['src'])"
   ]
  }
 ],
 "metadata": {
  "kernelspec": {
   "display_name": "Python 3",
   "language": "python",
   "name": "python3"
  },
  "language_info": {
   "codemirror_mode": {
    "name": "ipython",
    "version": 3
   },
   "file_extension": ".py",
   "mimetype": "text/x-python",
   "name": "python",
   "nbconvert_exporter": "python",
   "pygments_lexer": "ipython3",
   "version": "3.6.5"
  }
 },
 "nbformat": 4,
 "nbformat_minor": 2
}
