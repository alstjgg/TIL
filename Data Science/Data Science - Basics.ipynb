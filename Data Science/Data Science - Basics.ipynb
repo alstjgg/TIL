{
 "cells": [
  {
   "cell_type": "markdown",
   "metadata": {},
   "source": [
    "# Data Science Pipeline\n",
    "#### 1. Questions or problem definition\n",
    "- Ask an interesting question\n",
    "- What is the scientific goal\n",
    "- What would you do if you had the data\n",
    "- What do you want to predict or estimate\n",
    "\n",
    "#### 2. Acquire training and testing data\n",
    "- Get the data\n",
    "- How were the data sampled\n",
    "- Which data is relevant\n",
    "- Are there privacy isues\n",
    "\n",
    "#### 3. Wrangle, prepare, cleanse the data\n",
    "- Explore the data\n",
    "- Analyze, identify patterns, and explore the data\n",
    "- Plot the data\n",
    "- Are there anomalies\n",
    "- Are there patterns\n",
    "    \n",
    "> data analysis and wrangling\n",
    "```python\n",
    "import pandas as pd\n",
    "import numpy as np\n",
    "import random as rnd\n",
    "```\n",
    "\n",
    "#### 4. Model, predict, and solve the problem\n",
    "- Model the data\n",
    "- Build a model\n",
    "- Fit the model\n",
    "- Validate the model\n",
    "\n",
    "#### 5. Visualize, report, and present the proble solving steps and final solution\n",
    "- Communicate and visualize the results\n",
    "- What did you learn\n",
    "- Does the results make sense\n",
    "- Can you tell a story\n",
    "    \n",
    "> visualization\n",
    "```python\n",
    "import seaborn as sns\n",
    "import matplotlib.pyplot as plt\n",
    "%matplotlib inline\n",
    "```"
   ]
  },
  {
   "cell_type": "markdown",
   "metadata": {},
   "source": [
    "***\n",
    "# Workflow Goals\n",
    "\n",
    "#### Classifying\n",
    "- Classify or categorize samples\n",
    "- Understand implications or correlation of different classes with the solution goal\n",
    "\n",
    "#### Correlating\n",
    "- Find correlation between features and solution goal\n",
    "- Find features that contribute significantly to the goal\n",
    "- Find features which values are affected immensely by the goal, and vise versa\n",
    "\n",
    "#### Converting\n",
    "- Convert features to numerical equivalent values (if needed)\n",
    "\n",
    "#### Completing\n",
    "- Estimate missing values within a feature\n",
    "\n",
    "#### Correcting\n",
    "- Detect and correct errors or inaccurate values within features\n",
    "- Detect outliers among samples\n",
    "- Discard feautres that are not contributing to the analysis or skew the results\n",
    "\n",
    "#### Creating\n",
    "- Create new features based on existing features s.t. the new feature follows the correlation, conversion, completeness goals\n",
    "\n",
    "#### Charting\n",
    "- Select the rigtht visualization plots and charts depending on nature of the data and solution goals.\n",
    "\n",
    "\n",
    "*source : [Titanic Data Science Solutions](https://www.kaggle.com/startupsci/titanic-data-science-solutions)*"
   ]
  },
  {
   "cell_type": "markdown",
   "metadata": {},
   "source": [
    "***\n",
    "# Data Types\n"
   ]
  },
  {
   "cell_type": "code",
   "execution_count": null,
   "metadata": {},
   "outputs": [],
   "source": []
  }
 ],
 "metadata": {
  "kernelspec": {
   "display_name": "Python 3",
   "language": "python",
   "name": "python3"
  },
  "language_info": {
   "codemirror_mode": {
    "name": "ipython",
    "version": 3
   },
   "file_extension": ".py",
   "mimetype": "text/x-python",
   "name": "python",
   "nbconvert_exporter": "python",
   "pygments_lexer": "ipython3",
   "version": "3.6.5"
  }
 },
 "nbformat": 4,
 "nbformat_minor": 2
}
