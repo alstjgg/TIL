{
 "cells": [
  {
   "cell_type": "markdown",
   "metadata": {},
   "source": [
    "Based on [Titanic Data Science Solutions](https://www.kaggle.com/startupsci/titanic-data-science-solutions)\n",
    "\n",
    "# Problem definition\n",
    "[Titanic: Machine Learning form Disaster](https://www.kaggle.com/c/titanic/overview/description)\n",
    "> ... On April 15, 1912, during her maiden voyage, the Titanic sank after colliding with an iceberg, killing 1502 out of 2224 passengers and crew ... Although there was some element of luck involved in surviving the sinking, some groups of people were more likely to survive than others, such as women, children, and the upper-class ... complete the analysis of what sorts of people were likely to survive ...\n",
    "\n",
    "> Knowing from a training set of samples listing passengers who survived or did not survive the Titanic disaster, can our model determine based on a given test dataset not containing the survival information, if these passengers in the test dataset survived or not."
   ]
  },
  {
   "cell_type": "markdown",
   "metadata": {},
   "source": [
    "# Data Science Pipeline\n",
    "1. Questions or problem definition\n",
    "\n",
    "2. [Acquire training and testing data](##Acquire-data)\n",
    "\n",
    "3. Wrangle, prepare, cleanse the data\n",
    "\n",
    "4. Analyze, identify patterns, and explore the data\n",
    "\n",
    "5. Model, predict, and solve the problem\n",
    "\n",
    "6. Visualize, report, and present the proble solving steps and final solution\n"
   ]
  },
  {
   "cell_type": "markdown",
   "metadata": {},
   "source": [
    "## Acquire data\n",
    "- Acqure training and testing datasets into Panda DataFrames\n",
    "- Use [Kaggle API](https://github.com/Kaggle/kaggle-api) to acquire competitions data from kaggle\n",
    "    - Log in\n",
    "    - Create API Token\n",
    "    - Change Token directory to '.../.kaggle'\n",
    "    - `kaggle competitions download -c titanic`"
   ]
  },
  {
   "cell_type": "code",
   "execution_count": null,
   "metadata": {},
   "outputs": [],
   "source": [
    "import pandas as pd\n",
    "train_df = pd.read_csv('.../input/train.csv')\n",
    "test_df = pd.read_csv('.../input/test.csv')"
   ]
  }
 ],
 "metadata": {
  "kernelspec": {
   "display_name": "Python 3",
   "language": "python",
   "name": "python3"
  },
  "language_info": {
   "codemirror_mode": {
    "name": "ipython",
    "version": 3
   },
   "file_extension": ".py",
   "mimetype": "text/x-python",
   "name": "python",
   "nbconvert_exporter": "python",
   "pygments_lexer": "ipython3",
   "version": "3.6.5"
  }
 },
 "nbformat": 4,
 "nbformat_minor": 2
}
