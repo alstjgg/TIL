{
 "cells": [
  {
   "cell_type": "markdown",
   "metadata": {},
   "source": [
    "# Selenium\n",
    "> 웹 테스팅 패키지\n",
    "> 웹 브라우저에 직접 접근하여 브라우저를 테스트하는데에 사용\n",
    "- **webdriver**라는 API를 통해 Chrome 등을 제어한다\n",
    "    - Chrome을 사용하기 위해서는 Chrom Driver가 필요하다\n",
    "    - 크롬 버젼에 따라 드라이버를 설치해야하므로, `chrome://version`을 입력하거나 [여기](https://www.whatismybrowser.com/detect/what-version-of-chrome-do-i-have)에서 버젼 확인 후, [여기](https://sites.google.com/a/chromium.org/chromedriver/downloads)에서 다운 받는다\n",
    "\n",
    "#### 동적 크롤링\n",
    "- bs4은 정적 크롤링으로, 현재 상태의 웹 페이지를 가져온다\n",
    "- selenium은 동적으로 웹 페이지에 접근할 수 있다"
   ]
  },
  {
   "cell_type": "code",
   "execution_count": 6,
   "metadata": {},
   "outputs": [
    {
     "ename": "ModuleNotFoundError",
     "evalue": "No module named 'selenium'",
     "output_type": "error",
     "traceback": [
      "\u001b[1;31m---------------------------------------------------------------------------\u001b[0m",
      "\u001b[1;31mModuleNotFoundError\u001b[0m                       Traceback (most recent call last)",
      "\u001b[1;32m<ipython-input-6-93833772b63f>\u001b[0m in \u001b[0;36m<module>\u001b[1;34m()\u001b[0m\n\u001b[1;32m----> 1\u001b[1;33m \u001b[1;32mfrom\u001b[0m \u001b[0mselenium\u001b[0m \u001b[1;32mimport\u001b[0m \u001b[0mwebdriver\u001b[0m\u001b[1;33m\u001b[0m\u001b[0m\n\u001b[0m",
      "\u001b[1;31mModuleNotFoundError\u001b[0m: No module named 'selenium'"
     ]
    }
   ],
   "source": [
    "from selenium import webdriver"
   ]
  },
  {
   "cell_type": "code",
   "execution_count": null,
   "metadata": {},
   "outputs": [],
   "source": []
  }
 ],
 "metadata": {
  "kernelspec": {
   "display_name": "Python 3",
   "language": "python",
   "name": "python3"
  },
  "language_info": {
   "codemirror_mode": {
    "name": "ipython",
    "version": 3
   },
   "file_extension": ".py",
   "mimetype": "text/x-python",
   "name": "python",
   "nbconvert_exporter": "python",
   "pygments_lexer": "ipython3",
   "version": "3.6.5"
  }
 },
 "nbformat": 4,
 "nbformat_minor": 2
}
