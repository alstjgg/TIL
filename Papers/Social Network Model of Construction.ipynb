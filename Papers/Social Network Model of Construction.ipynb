{
 "cells": [
  {
   "cell_type": "markdown",
   "metadata": {},
   "source": [
    "# Social Network Model of Construction\n",
    "[Journal of Construction Engineering and Management, Volume 134 Issue 10 - October 2008](!https://ascelibrary.org/doi/10.1061/%28ASCE%290733-9364%282008%29134%3A10%28804%29)\n",
    "\n",
    "_Paul Chinowsky, James Diekmann, and Victor Galotti_\n"
   ]
  },
  {
   "cell_type": "markdown",
   "metadata": {},
   "source": [
    "## Introduction"
   ]
  },
  {
   "cell_type": "markdown",
   "metadata": {},
   "source": [
    "## Background\n",
    "\n",
    "### Social Network Analysis\n",
    "\n",
    "### SNA Application\n",
    "\n",
    "### Communication Vairables"
   ]
  },
  {
   "cell_type": "markdown",
   "metadata": {},
   "source": [
    "## Social Network Model\n",
    "\n",
    "### Overall Model\n",
    "\n",
    "### Dynamics\n",
    "\n",
    "### Mechanics\n",
    "\n",
    "### Example"
   ]
  },
  {
   "cell_type": "markdown",
   "metadata": {},
   "source": [
    "## Conclusion"
   ]
  }
 ],
 "metadata": {
  "kernelspec": {
   "display_name": "Python 3",
   "language": "python",
   "name": "python3"
  },
  "language_info": {
   "codemirror_mode": {
    "name": "ipython",
    "version": 3
   },
   "file_extension": ".py",
   "mimetype": "text/x-python",
   "name": "python",
   "nbconvert_exporter": "python",
   "pygments_lexer": "ipython3",
   "version": "3.8.3"
  }
 },
 "nbformat": 4,
 "nbformat_minor": 4
}
