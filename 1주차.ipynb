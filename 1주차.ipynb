{
 "cells": [
  {
   "cell_type": "markdown",
   "metadata": {},
   "source": [
    "# 객체 지향 프로그래밍\n",
    "### 객체 지향 = 프로그램 설계 방법론\n",
    "- 객체\n",
    "    - 프로그램 작성 시 기본 단위\n",
    "- 클래스\n",
    "    - 객체의 틀\n",
    "    - 캡슐화 : 속성과 메서드를 하나로 묶어서 처리\n",
    "    - 새로운 객체(인스턴스)를 생성하여 사용\n",
    "- 성질\n",
    "    - 상속성\n",
    "    - 다형성(오버로딩, 오버라이딩)\n",
    "\n",
    "# 파이썬\n",
    "#### 장점\n",
    "1. 강력한 기능 + 무료\n",
    "2. 읽고 사용하기 쉬움\n",
    "3. IoT와 쉬운 연동\n",
    "4. 다양하고 강력한 외부 라이버러리 풍부\n",
    "5. 강력한 웹 프레임워크 사용\n",
    "\n",
    "#### 단점\n",
    "6. 느린 속도 (컴파일러 언어가 아닌 스크립트 언어이기 때문)\n",
    "7. 모바일 컴퓨팅 분야에 지원이 약함\n",
    "8. 하드웨어 제어 어려움"
   ]
  }
 ],
 "metadata": {
  "kernelspec": {
   "display_name": "Python 3",
   "language": "python",
   "name": "python3"
  },
  "language_info": {
   "codemirror_mode": {
    "name": "ipython",
    "version": 3
   },
   "file_extension": ".py",
   "mimetype": "text/x-python",
   "name": "python",
   "nbconvert_exporter": "python",
   "pygments_lexer": "ipython3",
   "version": "3.6.5"
  }
 },
 "nbformat": 4,
 "nbformat_minor": 2
}
