{
 "cells": [
  {
   "cell_type": "markdown",
   "metadata": {},
   "source": [
    "# 변수 및 자료형\n",
    "## 변수\n",
    "- 프로그램 상에 변화하는 값을 저장하는 공간\n",
    "- 변수이름은 예약어는 불가\n",
    "    - `True`, `False`, `None`, `and`, `or`, `not`, `break`, `continue`, `return`, `if`, `else`, `elif`, `for`, `while`, `except`, `finally`, `global`, `import`, `try`\n",
    "- 서식문자\n",
    "    - `%d`, `%x`, `%o` : integer(정수 - 10진수, 16진수, 8진수)\n",
    "    - `%f` : float(실수)\n",
    "    - `%c` : character\n",
    "    - `%s` : string\n",
    "- 추가 서식\n",
    "    - `%10d`, `%5f` : 오른쪽 정렬\n",
    "    - `%-10d`, `%-4f` : 왼쪽 정렬\n",
    "    - `%.2f`, `%5.2f` : 소수점 자리수 지정\n",
    "    - `%010d` : 오른쪽 정렬 시 0출력\n",
    "- 변수에 값 할당은 **binding** 개념을 통해 이루어진다\n",
    "\n",
    "##### 예시"
   ]
  },
  {
   "cell_type": "code",
   "execution_count": null,
   "metadata": {},
   "outputs": [],
   "source": [
    "var1 = 100\n",
    "var2 = var1\n",
    "print(type(var1), ', ', id(var1))\n",
    "print(type(var2), ', ', id(var2))\n",
    "var1 = 3.5\n",
    "print(type(var1), ', ', id(var1))\n",
    "print(type(var2), ', ', id(var2))"
   ]
  },
  {
   "cell_type": "code",
   "execution_count": null,
   "metadata": {},
   "outputs": [],
   "source": [
    "# 변수 선언 및 자료형 - 화씨 섭씨 전환\n",
    "print('섭씨 온도를 입력하세요: ', end='')\n",
    "while(1):\n",
    "    try:\n",
    "        cels = float(input())\n",
    "        fahr = 9/5 * cels + 32\n",
    "        print('섭씨: {}, 화씨: {}'.format(cels, fahr))\n",
    "        break\n",
    "    except:\n",
    "        print('실수를 입력하시오')"
   ]
  },
  {
   "cell_type": "markdown",
   "metadata": {},
   "source": [
    "## 연산자\n",
    "- `**` : 지수\n",
    "- `/` : 나눗셈 , `//` : 몫, `%` : 나머지"
   ]
  },
  {
   "cell_type": "code",
   "execution_count": null,
   "metadata": {},
   "outputs": [],
   "source": [
    "# 연산자 - 현금 교환\n",
    "print('Enter money to exchange >> ')\n",
    "money = int(input())\n",
    "c500, c100, c50, c10, c1 = 0, 0, 0, 0, 0\n",
    "c500 = money // 500\n",
    "money %= 500\n",
    "c100 = money // 100\n",
    "money %= 100\n",
    "c50 = money // 50\n",
    "money %= 50\n",
    "c10 = money // 10\n",
    "money %= 10\n",
    "c1 = money\n",
    "\n",
    "print('500원짜리:: {:5d}개\\n100원짜리:: {:5d}개\\n50원짜리::\\\n",
    "{:5d}개\\n10원짜리:: {:5d}개\\n나머지:: {:5d}원'.format(c500, c100, c50, c10, c1))"
   ]
  },
  {
   "cell_type": "code",
   "execution_count": null,
   "metadata": {},
   "outputs": [],
   "source": [
    "# 연산자 - 결과 작성\n",
    "num1 = 10; num2 = 3\n",
    "result1 = num2 << 3\n",
    "result2 = num1 >> 3\n",
    "print(\"{}\\t{}\".format(result1,result2))\n",
    "num1 %= 4\n",
    "result3 = num1**4\n",
    "print('%d, %d' % (num1,result3))\n",
    "result4 = result1 >= result3\n",
    "result5 = result1 > 30 or result1 <= 10 and result1 == 24\n",
    "print(result4,' , ', result5)"
   ]
  },
  {
   "cell_type": "markdown",
   "metadata": {},
   "source": [
    "## 제어 및 반복"
   ]
  },
  {
   "cell_type": "code",
   "execution_count": null,
   "metadata": {},
   "outputs": [],
   "source": [
    "# 제어문 - 성적 처리\n",
    "print('Enter scores')\n",
    "sub = []; sum = 0\n",
    "for i in range(3):\n",
    "    sub.append(int(input()))\n",
    "    sum += sub[i]\n",
    "avg = float(sum/3)\n",
    "print('average = ', avg)\n",
    "\n",
    "if avg >= 90:\n",
    "    print('A')\n",
    "elif avg >= 80:\n",
    "    print('B')\n",
    "elif avg >= 70:\n",
    "    print('C')\n",
    "elif avg >= 60:\n",
    "    print('D')\n",
    "else:\n",
    "    print('F')"
   ]
  },
  {
   "cell_type": "code",
   "execution_count": null,
   "metadata": {},
   "outputs": [],
   "source": [
    "# 제어문 - BMI 계산\n",
    "print('Enter height(cm) and weight(kg): ')\n",
    "height = float(input())\n",
    "weight = float(input())\n",
    "bmi = weight/((height/100)**2)\n",
    "\n",
    "print('BMI = {:.2f}'.format(bmi))\n",
    "if bmi >= 20 and bmi < 24:\n",
    "    print('표준')\n",
    "elif bmi >= 24 and bmi > 30:\n",
    "    print('경도비만')\n",
    "elif bmi >= 30:\n",
    "    print('비만')\n",
    "else:\n",
    "    print('저체중')\n"
   ]
  },
  {
   "cell_type": "code",
   "execution_count": null,
   "metadata": {},
   "outputs": [],
   "source": [
    "# 제어문 - 반복문\n",
    "# 홀수 합\n",
    "total=0\n",
    "for i in range(501, 1000, 2):\n",
    "    total += i\n",
    "print('500~1000 사이의 홀수 누적합 = ', total)\n",
    "print()"
   ]
  },
  {
   "cell_type": "code",
   "execution_count": 2,
   "metadata": {},
   "outputs": [
    {
     "name": "stdout",
     "output_type": "stream",
     "text": [
      "Start: 1\n",
      "End: 100\n",
      "Step: 2\n",
      "2씩 증가할때 1 ~ 100 사이의 합은 2500\n"
     ]
    }
   ],
   "source": [
    "# 단계 합\n",
    "start = int(input('Start: '))\n",
    "end = int(input('End: '))\n",
    "step = int(input('Step: '))\n",
    "total = 0\n",
    "for i in range(start, end+1, step):\n",
    "    total += i\n",
    "\n",
    "print('{}씩 증가할때 {} ~ {} 사이의 합은 {}'.format(step, start, end, total))"
   ]
  },
  {
   "cell_type": "code",
   "execution_count": null,
   "metadata": {},
   "outputs": [],
   "source": [
    "# 용돈\n",
    "all = 10\n",
    "month = 1\n",
    "while True:\n",
    "    print('{:2d}달에는 {:10d}원'.format(month, all))\n",
    "    if all < 100000:\n",
    "        all*=2\n",
    "        month+=1\n",
    "    else:\n",
    "        print('{:2d}달이 될 때, 용돈 {:10d}원으로 10만원이 넘음'.format(month, all))\n",
    "        break"
   ]
  },
  {
   "cell_type": "code",
   "execution_count": 7,
   "metadata": {},
   "outputs": [
    {
     "name": "stdout",
     "output_type": "stream",
     "text": [
      "Enter integer: 3\n",
      "Factorial 3 = 6\n"
     ]
    }
   ],
   "source": [
    "# break / continue\n",
    "# Factorial\n",
    "n = int(input('Enter integer: '))\n",
    "fact = 1\n",
    "for i in range(1, n+1):\n",
    "    fact *= i\n",
    "print('Factorial {} = {}'.format(n, fact))"
   ]
  },
  {
   "cell_type": "code",
   "execution_count": null,
   "metadata": {},
   "outputs": [],
   "source": [
    "# 문자열\n",
    "text = input('문자열 입력: ')\n",
    "end = len(text)\n",
    "for i in range(end, 0, -1):\n",
    "    print('{}'.format(text[i-1:end]))"
   ]
  },
  {
   "cell_type": "code",
   "execution_count": null,
   "metadata": {},
   "outputs": [],
   "source": [
    "# Turtle\n",
    "import turtle, random\n",
    "colors = ['red', 'green', 'orange', 'purple', 'pink', 'yellow']\n",
    "turtle.width(10)\n",
    "length = 5\n",
    "for i in range(100):\n",
    "    color = random.choice(colors)\n",
    "    turtle.right(135)\n",
    "    turtle.forward(i+100)\n",
    "    turtle.color(color)\n",
    "    length += 5"
   ]
  },
  {
   "cell_type": "markdown",
   "metadata": {},
   "source": [
    "# random moudle\n",
    "- `random()` : 0.0 ~ 1.0 사이의 랜덥 실수값\n",
    "- `uniform(a, b)` : a ~ b 사이의 랜덤 실수값 (b 미포함)\n",
    "- `randrange(a)` : 0 ~ a-1 사이의 랜덤 정수값\n",
    "- `randrange(a, b, c)` : c씩 증가할 때 a ~ b 사이 랜덤 정수값\n",
    "- `choice([])` : List에서 랜덤하게 항목 선택\n",
    "- `shuffle([])` : List의 항목을 랜덤하게 섞음 (List 자체가 변함)\n",
    "- `sample([], k)` : List의 항목 중 k개 선택\n",
    "\n",
    "\n",
    "# 집합형 자료형\n",
    "## 1. List\n",
    "- index : 0부터 시작하는 항목의 암묵적인 위치 값\n",
    "- 항목의 자료형은 제한 없음\n",
    "- 범위로 접근 가능 (`list[start:end]`)\n",
    "- 동시에 여러 값에 접근도 가능(동시 구정 가능)\n",
    "\n",
    "### 함수\n",
    "- `len()` : 길이 계산\n",
    "- `del list[a]` : 인덱스 a에 있는 값 삭제 (값들이 shift 됨)\n",
    "- `del list` : list 전체 삭제\n",
    "- `list.sort()` : 값 정렬\n",
    "- `list.index(a)` : list에서 a가 발견된 인덱스 값\n",
    "- `list.append(a)` : list의 맨 뒤에 a 값 추가\n",
    "- `list.remove(a)` : list에서 첫번째 a 값 삭제\n",
    "- `list.insert(a, b)` : list의 a번째 인덱스에 b 값 추가 (다른 값들은 shift 됨)\n",
    "- `list.clear()` : list 값들은 삭제, list = []\n",
    "\n",
    "### 다차원 리스트\n",
    "- 2차원 : `list = [[__, __], [__, __]]\n",
    "\n",
    "## 2. Tuple\n",
    "- 삭제, 삽입 등 항목 수정 불가\n",
    "- 하나의 항목만 존재하는 tuple = `tuple = (__, )` 또는 `= __, `\n",
    "\n",
    "## 3. Dictionary\n",
    "- index(위치값)은 무의미함\n",
    "- key 값으로 항목 표현\n",
    "- `{key1: value1, key2:value2, ...}`\n",
    "- key값은 중복될 수 없으며 중복 시 가장 마지막 입력 값으로 저장된다\n",
    "\n",
    "### 함수\n",
    "- `key in dict` : key의 존재 유무 확인\n",
    "- `dict.get()` : key의 존재 유무를 확인하여 있으면 해당 value, 없으면 None\n",
    "- `dict.keys()` : dict의 key값\n",
    "- `dict.values()` : dict의 value값\n",
    "- `dict.items()` : dict의 key와 value"
   ]
  },
  {
   "cell_type": "code",
   "execution_count": 92,
   "metadata": {},
   "outputs": [
    {
     "name": "stdout",
     "output_type": "stream",
     "text": [
      "name = apple\n",
      "name = apple\n",
      "origin = None\n",
      "dict_keys(['name', 'type', 'color', 'number'])\n",
      "dict_values(['apple', 'fruit', 'red', 2])\n",
      "dict_items([('name', 'banana'), ('type', 'fruit'), ('color', 'yellow'), ('origin', 'korea')])\n",
      "key = name, value = apple\n",
      "key = type, value = fruit\n",
      "key = color, value = red\n",
      "key = number, value = 2\n",
      "key = name, value = banana\n",
      "key = type, value = fruit\n",
      "key = color, value = yellow\n",
      "key = origin, value = korea\n"
     ]
    }
   ],
   "source": [
    "tmp1 = {'name':'apple', 'type':'fruit', 'color':'red', 'number':2}\n",
    "tmp2 = {'name':'banana', 'type':'fruit', 'color':'yellow', 'origin':'korea'}\n",
    "\n",
    "if 'name' in tmp1:\n",
    "    print('name = {}'.format(tmp1['name']))\n",
    "print('name = {}'.format(tmp1.get('name')))\n",
    "print('origin = {}'.format(tmp1.get('origin')))\n",
    "print(tmp1.keys())\n",
    "print(tmp1.values())\n",
    "print(tmp2.items())\n",
    "\n",
    "for k in tmp1:\n",
    "    print('key = {}, value = {}'.format(k, tmp1.get(k)))\n",
    "    \n",
    "for k, v in tmp2.items():\n",
    "    print('key = {}, value = {}'.format(k, v))"
   ]
  },
  {
   "cell_type": "markdown",
   "metadata": {},
   "source": [
    "## 4. Set\n",
    "- key만 모아놓은 dictionary의 특수한 형태\n",
    "- `index` 값은 무의미함\n",
    "- `set = {key1, key2, ...}`\n",
    "- key 값은 중복될 수 없음"
   ]
  },
  {
   "cell_type": "code",
   "execution_count": 61,
   "metadata": {},
   "outputs": [
    {
     "name": "stdout",
     "output_type": "stream",
     "text": [
      "(7, 'start', 'bean', 14.4, 'start')\n",
      "{'start', 'bean', 14.4, 7}\n"
     ]
    }
   ],
   "source": [
    "set_ex = (7, 'start', 'bean', 14.4, 'start')\n",
    "print(set_ex)\n",
    "set_ex = set(set_ex)\n",
    "print(set_ex)"
   ]
  },
  {
   "cell_type": "markdown",
   "metadata": {},
   "source": [
    "### 함수\n",
    "- `set1.intersection(set2)` : 교집합\n",
    "- `set1.union(set2)` : 합집합\n",
    "- `set1.difference(set2)` : 차집합\n",
    "- `set1.symmetric_difference(set2)` : 대칭 차집합"
   ]
  },
  {
   "cell_type": "code",
   "execution_count": 63,
   "metadata": {},
   "outputs": [
    {
     "name": "stdout",
     "output_type": "stream",
     "text": [
      "{3, 4}\n",
      "{3, 4}\n",
      "{1, 2, 3, 4, 5, 6}\n",
      "{1, 2, 3, 4, 5, 6}\n",
      "{1, 2}\n",
      "{1, 2}\n",
      "{1, 2, 5, 6}\n",
      "{1, 2, 5, 6}\n"
     ]
    }
   ],
   "source": [
    "mySet1 = {1,2,3,4}\n",
    "mySet2 = {3,4,5,6}\n",
    "print(mySet1 & mySet2)\n",
    "print(mySet1.intersection(mySet2))\n",
    "print(mySet1 | mySet2)\n",
    "print(mySet1.union(mySet2))\n",
    "print(mySet1 - mySet2)\n",
    "print(mySet1.difference(mySet2))\n",
    "print(mySet1 ^ mySet2)\n",
    "print(mySet1.symmetric_difference(mySet2))"
   ]
  },
  {
   "cell_type": "markdown",
   "metadata": {},
   "source": [
    "## * Comprehension\n",
    "- 값이 순차적인 list의 생성을 한 줄로 코딩하는 방법\n",
    "- `list = [__ for _ in range(_) if __]`"
   ]
  },
  {
   "cell_type": "code",
   "execution_count": 76,
   "metadata": {},
   "outputs": [
    {
     "name": "stdout",
     "output_type": "stream",
     "text": [
      "[5, 10, 15, 20]\n",
      "[[2, 3], [1, 3]]\n"
     ]
    }
   ],
   "source": [
    "# 1~20 사이의 숫자 중 5의 배수로 리스트 작성\n",
    "multiple_5 = [i for i in range(1, 21) if i%5==0]\n",
    "print(multiple_5)\n",
    "\n",
    "# 1~5 사이의 랜덤 정수를 발생시켜 2x2 리스트 생성\n",
    "import random\n",
    "twobytwo = [[random.randrange(1, 6, 1) for _ in range(2)] for _ in range(2)]\n",
    "print(twobytwo)"
   ]
  },
  {
   "cell_type": "markdown",
   "metadata": {},
   "source": [
    "## * zip\n",
    "- 동시에 다수의 리스트에 접근\n",
    "- key 값 및 index 값 사용 불가\n",
    "    -> list, tuple, dictionary로 변환 시 key과 index 값 사용 가능"
   ]
  },
  {
   "cell_type": "code",
   "execution_count": 89,
   "metadata": {},
   "outputs": [
    {
     "name": "stdout",
     "output_type": "stream",
     "text": [
      "떡볶이  -->  오뎅\n",
      "짜장면  -->  단무지\n",
      "라면  -->  김치\n",
      "떡볶이 오뎅\n",
      "짜장면 단무지\n",
      "라면 김치\n",
      "('떡볶이', '오뎅')\n"
     ]
    }
   ],
   "source": [
    "foods = [\"떡볶이\",\"짜장면\",\"라면\",\"피자\",\"맥주\"]\n",
    "sides = [\"오뎅\",\"단무지\",\"김치\"]\n",
    "zip_tuple = zip(foods, sides)\n",
    "for food, side in zip_tuple:\n",
    "    print(food, \" --> \", side)\n",
    "    \n",
    "zip_tuple = zip(foods, sides)\n",
    "for i, j in zip_tuple:\n",
    "    print(i, j)\n",
    "\n",
    "zip_list = list(zip(foods, sides))\n",
    "print(zip_list[0])"
   ]
  }
 ],
 "metadata": {
  "kernelspec": {
   "display_name": "Python 3",
   "language": "python",
   "name": "python3"
  },
  "language_info": {
   "codemirror_mode": {
    "name": "ipython",
    "version": 3
   },
   "file_extension": ".py",
   "mimetype": "text/x-python",
   "name": "python",
   "nbconvert_exporter": "python",
   "pygments_lexer": "ipython3",
   "version": "3.6.5"
  }
 },
 "nbformat": 4,
 "nbformat_minor": 2
}
